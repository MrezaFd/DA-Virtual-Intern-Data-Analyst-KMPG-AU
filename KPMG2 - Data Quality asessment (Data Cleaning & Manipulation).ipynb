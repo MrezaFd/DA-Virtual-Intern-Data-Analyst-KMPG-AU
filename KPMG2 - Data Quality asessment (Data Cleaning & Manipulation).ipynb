{
 "cells": [
  {
   "cell_type": "markdown",
   "metadata": {},
   "source": [
    "# Task 1- Data Quality Assessment from 3 dataset"
   ]
  },
  {
   "cell_type": "markdown",
   "metadata": {},
   "source": [
    "**Assessment of data quality and completeness in preparation for analysis.**"
   ]
  },
  {
   "cell_type": "markdown",
   "metadata": {},
   "source": [
    "**Goals:**\n",
    "**evaluate the quality of the data and determine its completeness in order to prepare it for further analysis. By conducting an assessment of data quality, any potential issues or inaccuracies can be identified and addressed.** Simultaneously, checking data completeness ensures that all required information is available for a comprehensive analysis, enabling researchers or analysts to draw reliable and meaningful conclusions from the data. The ultimate objective is to ensure that the data is reliable, accurate, and adequate for the intended analytical purposes.\n",
    "\n",
    "\n",
    "\n",
    "\n"
   ]
  },
  {
   "cell_type": "markdown",
   "metadata": {},
   "source": [
    "**The client provided KPMG with 3 datasets:**\n",
    "\n",
    "1.Customer Demographic\n",
    "\n",
    "2.Customer Addresses\n",
    "\n",
    "3.Transactions data in the past 3 months"
   ]
  },
  {
   "cell_type": "markdown",
   "metadata": {},
   "source": [
    "### Load 3 Dataset "
   ]
  },
  {
   "cell_type": "code",
   "execution_count": 1,
   "metadata": {},
   "outputs": [],
   "source": [
    "# import dataset\n",
    "import pandas as pd \n",
    "import numpy as np\n",
    "import seaborn as sns\n",
    "import matplotlib.pyplot as plt \n",
    "%matplotlib inline\n",
    "import warnings\n",
    "warnings.filterwarnings(\"ignore\")"
   ]
  },
  {
   "cell_type": "code",
   "execution_count": 2,
   "metadata": {},
   "outputs": [],
   "source": [
    "data = pd.ExcelFile(\"kpmg_1.xlsx\")"
   ]
  },
  {
   "cell_type": "code",
   "execution_count": 3,
   "metadata": {},
   "outputs": [],
   "source": [
    "Transactions = pd.read_excel(data, 'Transactions')\n",
    "NewCustomerList = pd.read_excel(data, 'NewCustomerList')\n",
    "CustomerDemographic = pd.read_excel(data, 'CustomerDemographic')\n",
    "CustomerAddress = pd.read_excel(data, 'CustomerAddress')"
   ]
  },
  {
   "cell_type": "markdown",
   "metadata": {},
   "source": [
    "# A. Transcations"
   ]
  },
  {
   "cell_type": "markdown",
   "metadata": {},
   "source": [
    "###  1. EDA of Transaction "
   ]
  },
  {
   "cell_type": "code",
   "execution_count": 6,
   "metadata": {},
   "outputs": [
    {
     "data": {
      "text/html": [
       "<div>\n",
       "<style scoped>\n",
       "    .dataframe tbody tr th:only-of-type {\n",
       "        vertical-align: middle;\n",
       "    }\n",
       "\n",
       "    .dataframe tbody tr th {\n",
       "        vertical-align: top;\n",
       "    }\n",
       "\n",
       "    .dataframe thead th {\n",
       "        text-align: right;\n",
       "    }\n",
       "</style>\n",
       "<table border=\"1\" class=\"dataframe\">\n",
       "  <thead>\n",
       "    <tr style=\"text-align: right;\">\n",
       "      <th></th>\n",
       "      <th>transaction_id</th>\n",
       "      <th>product_id</th>\n",
       "      <th>customer_id</th>\n",
       "      <th>transaction_date</th>\n",
       "      <th>online_order</th>\n",
       "      <th>order_status</th>\n",
       "      <th>brand</th>\n",
       "      <th>product_line</th>\n",
       "      <th>product_class</th>\n",
       "      <th>product_size</th>\n",
       "      <th>list_price</th>\n",
       "      <th>standard_cost</th>\n",
       "      <th>product_first_sold_date</th>\n",
       "    </tr>\n",
       "  </thead>\n",
       "  <tbody>\n",
       "    <tr>\n",
       "      <th>0</th>\n",
       "      <td>1</td>\n",
       "      <td>2</td>\n",
       "      <td>2950</td>\n",
       "      <td>2017-02-25</td>\n",
       "      <td>0.0</td>\n",
       "      <td>Approved</td>\n",
       "      <td>Solex</td>\n",
       "      <td>Standard</td>\n",
       "      <td>medium</td>\n",
       "      <td>medium</td>\n",
       "      <td>71.49</td>\n",
       "      <td>53.62</td>\n",
       "      <td>41245.0</td>\n",
       "    </tr>\n",
       "    <tr>\n",
       "      <th>1</th>\n",
       "      <td>2</td>\n",
       "      <td>3</td>\n",
       "      <td>3120</td>\n",
       "      <td>2017-05-21</td>\n",
       "      <td>1.0</td>\n",
       "      <td>Approved</td>\n",
       "      <td>Trek Bicycles</td>\n",
       "      <td>Standard</td>\n",
       "      <td>medium</td>\n",
       "      <td>large</td>\n",
       "      <td>2091.47</td>\n",
       "      <td>388.92</td>\n",
       "      <td>41701.0</td>\n",
       "    </tr>\n",
       "    <tr>\n",
       "      <th>2</th>\n",
       "      <td>3</td>\n",
       "      <td>37</td>\n",
       "      <td>402</td>\n",
       "      <td>2017-10-16</td>\n",
       "      <td>0.0</td>\n",
       "      <td>Approved</td>\n",
       "      <td>OHM Cycles</td>\n",
       "      <td>Standard</td>\n",
       "      <td>low</td>\n",
       "      <td>medium</td>\n",
       "      <td>1793.43</td>\n",
       "      <td>248.82</td>\n",
       "      <td>36361.0</td>\n",
       "    </tr>\n",
       "    <tr>\n",
       "      <th>3</th>\n",
       "      <td>4</td>\n",
       "      <td>88</td>\n",
       "      <td>3135</td>\n",
       "      <td>2017-08-31</td>\n",
       "      <td>0.0</td>\n",
       "      <td>Approved</td>\n",
       "      <td>Norco Bicycles</td>\n",
       "      <td>Standard</td>\n",
       "      <td>medium</td>\n",
       "      <td>medium</td>\n",
       "      <td>1198.46</td>\n",
       "      <td>381.10</td>\n",
       "      <td>36145.0</td>\n",
       "    </tr>\n",
       "    <tr>\n",
       "      <th>4</th>\n",
       "      <td>5</td>\n",
       "      <td>78</td>\n",
       "      <td>787</td>\n",
       "      <td>2017-10-01</td>\n",
       "      <td>1.0</td>\n",
       "      <td>Approved</td>\n",
       "      <td>Giant Bicycles</td>\n",
       "      <td>Standard</td>\n",
       "      <td>medium</td>\n",
       "      <td>large</td>\n",
       "      <td>1765.30</td>\n",
       "      <td>709.48</td>\n",
       "      <td>42226.0</td>\n",
       "    </tr>\n",
       "  </tbody>\n",
       "</table>\n",
       "</div>"
      ],
      "text/plain": [
       "   transaction_id  product_id  customer_id transaction_date  online_order  \\\n",
       "0               1           2         2950       2017-02-25           0.0   \n",
       "1               2           3         3120       2017-05-21           1.0   \n",
       "2               3          37          402       2017-10-16           0.0   \n",
       "3               4          88         3135       2017-08-31           0.0   \n",
       "4               5          78          787       2017-10-01           1.0   \n",
       "\n",
       "  order_status           brand product_line product_class product_size  \\\n",
       "0     Approved           Solex     Standard        medium       medium   \n",
       "1     Approved   Trek Bicycles     Standard        medium        large   \n",
       "2     Approved      OHM Cycles     Standard           low       medium   \n",
       "3     Approved  Norco Bicycles     Standard        medium       medium   \n",
       "4     Approved  Giant Bicycles     Standard        medium        large   \n",
       "\n",
       "   list_price  standard_cost  product_first_sold_date  \n",
       "0       71.49          53.62                  41245.0  \n",
       "1     2091.47         388.92                  41701.0  \n",
       "2     1793.43         248.82                  36361.0  \n",
       "3     1198.46         381.10                  36145.0  \n",
       "4     1765.30         709.48                  42226.0  "
      ]
     },
     "execution_count": 6,
     "metadata": {},
     "output_type": "execute_result"
    }
   ],
   "source": [
    "#Checking Data Type and Unique values\n",
    "Transactions.head(5)"
   ]
  },
  {
   "cell_type": "code",
   "execution_count": 7,
   "metadata": {},
   "outputs": [
    {
     "name": "stdout",
     "output_type": "stream",
     "text": [
      "<class 'pandas.core.frame.DataFrame'>\n",
      "RangeIndex: 20000 entries, 0 to 19999\n",
      "Data columns (total 13 columns):\n",
      " #   Column                   Non-Null Count  Dtype         \n",
      "---  ------                   --------------  -----         \n",
      " 0   transaction_id           20000 non-null  int64         \n",
      " 1   product_id               20000 non-null  int64         \n",
      " 2   customer_id              20000 non-null  int64         \n",
      " 3   transaction_date         20000 non-null  datetime64[ns]\n",
      " 4   online_order             19640 non-null  float64       \n",
      " 5   order_status             20000 non-null  object        \n",
      " 6   brand                    19803 non-null  object        \n",
      " 7   product_line             19803 non-null  object        \n",
      " 8   product_class            19803 non-null  object        \n",
      " 9   product_size             19803 non-null  object        \n",
      " 10  list_price               20000 non-null  float64       \n",
      " 11  standard_cost            19803 non-null  float64       \n",
      " 12  product_first_sold_date  19803 non-null  float64       \n",
      "dtypes: datetime64[ns](1), float64(4), int64(3), object(5)\n",
      "memory usage: 2.0+ MB\n"
     ]
    }
   ],
   "source": [
    "Transactions.info(5)"
   ]
  },
  {
   "cell_type": "code",
   "execution_count": 9,
   "metadata": {},
   "outputs": [
    {
     "data": {
      "text/plain": [
       "(20000, 13)"
      ]
     },
     "execution_count": 9,
     "metadata": {},
     "output_type": "execute_result"
    }
   ],
   "source": [
    "#Checking the shape of the data\n",
    "Transactions.shape"
   ]
  },
  {
   "cell_type": "code",
   "execution_count": 11,
   "metadata": {},
   "outputs": [
    {
     "name": "stdout",
     "output_type": "stream",
     "text": [
      "transaction_id have 20000 unique values: int64\n",
      "transaction_id values: [    1     2     3 ... 19998 19999 20000]\n",
      "\n",
      "product_id have 101 unique values: int64\n",
      "product_id values: [  2   3  37  88  78  25  22  15  67  12   5  61  35  16  79  33  54  27\n",
      "  82  89  64  19  72  91   1  99   0  92  14  44  76  46  55  66  81  86\n",
      "  32  77  96   6  47  94  93  60  28   4  38  56  58  50  80  87  84  21\n",
      "  31  62  17  73  45  49  95  18  70  26  39  36  98  75  42  20  24  53\n",
      "  65  29  11  10   7  41   9  69  90  97 100  74  71  34  57  23  51  59\n",
      "  63  40   8  13  30  48  68  83  43  52  85]\n",
      "\n",
      "customer_id have 3494 unique values: int64\n",
      "customer_id values: [2950 3120  402 ...  130 2789 3446]\n",
      "\n",
      "transaction_date have 364 unique values: datetime64[ns]\n",
      "online_order have 2 unique values: float64\n",
      "online_order values: [ 0.  1. nan]\n",
      "\n",
      "order_status have 2 unique values: object\n",
      "order_status values: ['Approved' 'Cancelled']\n",
      "\n",
      "brand have 6 unique values: object\n",
      "brand values: ['Solex' 'Trek Bicycles' 'OHM Cycles' 'Norco Bicycles' 'Giant Bicycles'\n",
      " 'WeareA2B' nan]\n",
      "\n",
      "product_line have 4 unique values: object\n",
      "product_line values: ['Standard' 'Road' 'Mountain' 'Touring' nan]\n",
      "\n",
      "product_class have 3 unique values: object\n",
      "product_class values: ['medium' 'low' 'high' nan]\n",
      "\n",
      "product_size have 3 unique values: object\n",
      "product_size values: ['medium' 'large' 'small' nan]\n",
      "\n",
      "list_price have 296 unique values: float64\n",
      "list_price values: [  71.49 2091.47 1793.43 1198.46 1765.3  1538.99   60.34 1292.84 1071.23\n",
      " 1231.15  574.64   71.16 1057.51 1661.92 1555.58 1311.44  499.53 1362.99\n",
      " 1469.44  360.4   642.31 1403.5  1720.7   544.05 1415.01 1842.92 1769.64\n",
      " 2083.94 1289.85 1894.19 1163.89 1151.96  235.63  642.7  1240.31 1635.3\n",
      "  227.88  363.01  100.35 1458.17 1977.36   12.01 1216.14 1129.13  183.86\n",
      "  912.52  175.89 1073.07 1179.    958.74  792.9   290.62  752.64  478.16\n",
      " 1024.66 1945.43  441.49  533.51  569.56 1148.64  495.72 1992.93 1812.75\n",
      "  945.04  358.39 1873.97 1810.   1775.81 1777.8   795.34  575.27 1172.78\n",
      " 1065.03 1807.45 1942.61 1274.93 1890.39  980.37  416.98 1386.84  742.54\n",
      "  230.91  688.63  748.17 1466.68 1656.86  202.62 1036.59 1228.07  774.53\n",
      "  586.45 1762.96 2005.66 1483.2   590.26 1703.52 1577.53 1636.9  1280.28\n",
      " 1061.56  850.89  710.59  543.39 1227.34 1972.01  311.54  205.84  605.54\n",
      "  756.31  850.    571.27  294.35  149.3   447.25 1348.41 1021.43 1163.77\n",
      " 1294.66  638.29 1202.34  326.86  814.86 1102.68 1880.4  1541.62  639.38\n",
      "  402.14  710.55 1142.89  813.6  1833.17 1285.47 1678.71  437.51  366.22\n",
      " 1199.26 1888.45  237.44  317.3  1527.25 1563.94 1146.42 1192.33 1672.07\n",
      " 1099.68 1281.6  1220.66 1061.92 1502.93  398.08  101.55 1957.87 1095.66\n",
      " 1776.08  752.36  172.09 1740.16 1734.3   240.72 1958.34  330.36 1709.26\n",
      "   60.72 1193.44 2037.77 1349.47   56.21  126.36 1300.96 1697.27   26.15\n",
      "  875.99 1862.82 2028.26  678.25  890.28 1084.18 1107.08 1790.31  724.37\n",
      " 1095.65 1223.24  541.44  470.07 2052.92 1817.13 1473.09 1480.76 2012.84\n",
      " 1711.35  753.76  840.02 1922.94 1759.3   330.91 1029.36 1487.8  1624.69\n",
      " 1719.95  899.52  554.38  960.51 1978.64   36.78   74.89 1091.51  695.23\n",
      " 1148.41  750.25 1997.68 1392.76 1294.37  311.57  899.92  162.87 1678.51\n",
      " 1703.18  675.28  487.8  1292.13 1578.52  922.15  122.74  435.66 1409.68\n",
      " 1315.16 1233.12  758.73  405.94 1026.7   687.9   494.96 1181.89  465.71\n",
      "  880.3  1989.3  1413.98  483.12  753.01  883.91 1216.4    32.44   16.08\n",
      " 1184.    587.02 1919.23 1660.68 1224.41 1535.84  150.51 2062.95 1689.63\n",
      " 1934.41  889.05 1617.32 1788.93 2064.08 2020.14  489.58 2076.81 2061.38\n",
      "  877.44 1374.2   731.41 1034.17  156.56  643.95  517.53  226.94 1196.65\n",
      "  634.57 1571.83 1999.54 1562.88 1150.59  356.05 1780.22 1438.9   966.91\n",
      "  918.43 1541.1  1476.88 1023.39  310.57  356.39 1695.42  877.6  1401.63\n",
      " 2086.07 1761.75 1615.62  744.54 1098.18  868.56 1497.43  867.92]\n",
      "\n",
      "standard_cost have 103 unique values: float64\n",
      "standard_cost values: [  53.62       388.92       248.82       381.1        709.48\n",
      "  829.65        45.26        13.44       380.74       161.6\n",
      "  459.71        56.93       154.4       1479.11       818.01\n",
      " 1167.18       388.72        57.74       596.55       270.3\n",
      "  513.85       954.82      1531.42       376.84      1259.36\n",
      " 1105.75       108.76       675.03        74.51       598.76\n",
      "  589.27       649.49       125.07       211.37       795.1\n",
      "  993.66       136.73       290.41        75.26       874.9\n",
      " 1759.85         7.21      1082.36       677.48       137.9\n",
      "  141.4        131.92       933.84       707.4        748.9\n",
      "  594.68       215.14       205.36       298.72       614.8\n",
      "  333.18        84.99       400.13       528.43       689.18\n",
      "  297.43       762.63       582.48       507.58       215.03\n",
      "  863.95      1610.9       1580.47       820.78       101.58\n",
      "  431.45      1043.77       230.09       778.69               nan\n",
      "  764.96       260.14       234.43       312.74      1234.29\n",
      "  667.4        173.18       612.88       448.9        363.25\n",
      "  151.96       206.35       400.91       464.72       521.94\n",
      "  950.52      1203.4         99.59       525.33      1516.13\n",
      "  826.51        44.71       829.51       733.58       407.54\n",
      "  770.89       312.7350159  270.2999878  667.4000244]\n",
      "\n",
      "product_first_sold_date have 100 unique values: float64\n",
      "product_first_sold_date values: [41245. 41701. 36361. 36145. 42226. 39031. 34165. 39915. 33455. 38216.\n",
      " 40784. 42172. 34527. 34586. 38193. 37873. 38206. 33888. 37337. 36334.\n",
      " 42145. 42404. 34079. 41047. 42560. 42710. 41922. 37539. 42688. 38991.\n",
      " 38647. 37874. 34996. 33549. 38693. 37668. 41533. 41009. 40553. 39427.\n",
      " 38482. 35470. 41434. 36367. 38750. 41848. 34244. 42696. 38258. 41167.\n",
      " 40672. 35707. 42295. 33552. 35667. 33879. 40670. 37626. 38339. 40303.\n",
      " 34143. 35160. 36668. 36498. 34071. 40649. 37823. 36146. 42105. 34115.\n",
      " 35052. 33364. 42218. 41345. 33429. 38859.    nan 36833. 37499. 41064.\n",
      " 33259. 35560. 37838. 37698. 35378. 38573. 38002. 39526. 39880. 40487.\n",
      " 40336. 40618. 34170. 40410. 42458. 39298. 35455. 37220. 37659. 40779.\n",
      " 34556.]\n",
      "\n"
     ]
    }
   ],
   "source": [
    "# Checking unique value from each columns\n",
    "for col in Transactions.columns:\n",
    "    print(\"{} have {} unique values: {}\".format(col, Transactions[col].nunique(), Transactions[col].dtypes))\n",
    "    if Transactions[col].dtypes == 'int64' or Transactions[col].dtypes == 'float' or Transactions[col].dtypes == 'object':\n",
    "        print(\"{} values: {}\".format(col,Transactions[col].unique()))\n",
    "        print('')"
   ]
  },
  {
   "cell_type": "code",
   "execution_count": 12,
   "metadata": {},
   "outputs": [
    {
     "name": "stdout",
     "output_type": "stream",
     "text": [
      "['transaction_id', 'product_id', 'customer_id', 'online_order', 'list_price', 'standard_cost', 'product_first_sold_date']\n",
      "Counts : 7\n"
     ]
    }
   ],
   "source": [
    "# numerical data\n",
    "nums_t = Transactions.loc[:, (Transactions.dtypes == 'int64') | (Transactions.dtypes == float)].columns.tolist()\n",
    "print(nums_t)\n",
    "print('Counts :', len(nums_t))"
   ]
  },
  {
   "cell_type": "code",
   "execution_count": 14,
   "metadata": {},
   "outputs": [
    {
     "name": "stdout",
     "output_type": "stream",
     "text": [
      "['order_status', 'brand', 'product_line', 'product_class', 'product_size']\n",
      "Counts : 5\n"
     ]
    }
   ],
   "source": [
    "# categorical data\n",
    "cats_t = Transactions.loc[:, (Transactions.dtypes == object)].columns.tolist() \n",
    "print(cats_t)\n",
    "print('Counts :', len(cats_t))"
   ]
  },
  {
   "cell_type": "code",
   "execution_count": 17,
   "metadata": {},
   "outputs": [
    {
     "name": "stdout",
     "output_type": "stream",
     "text": [
      "['transaction_date']\n",
      "Counts: 1\n"
     ]
    }
   ],
   "source": [
    "#datetime data\n",
    "# Check if each column is of datetime type\n",
    "date_time_columns = Transactions.select_dtypes(include=['datetime64[ns]']).columns.tolist()\n",
    "\n",
    "# Print the datetime columns and their counts\n",
    "print(date_time_columns)\n",
    "print('Counts:', len(date_time_columns))\n"
   ]
  },
  {
   "cell_type": "markdown",
   "metadata": {},
   "source": [
    " 🔬**Observation & recomendations For Transactions Dataset :**\n",
    "1. The dataset consists of 20000 records and 13 columns, 7 numerical data,5 categorical data, and datetime data 1.\n",
    "2. transaction_id, product_id, customer_id, product_first_sold_date is recommended to be integer.\n",
    "3. There are columns that are not relevant, so they need to be dropped.\n",
    " "
   ]
  },
  {
   "cell_type": "markdown",
   "metadata": {},
   "source": [
    "### 2. Checking Missing Values "
   ]
  },
  {
   "cell_type": "code",
   "execution_count": 24,
   "metadata": {},
   "outputs": [
    {
     "name": "stdout",
     "output_type": "stream",
     "text": [
      "                         missing value counts     %\n",
      "online_order                              360  1.80\n",
      "product_first_sold_date                   197  0.98\n",
      "standard_cost                             197  0.98\n",
      "product_size                              197  0.98\n",
      "product_class                             197  0.98\n",
      "product_line                              197  0.98\n",
      "brand                                     197  0.98\n",
      "list_price                                  0  0.00\n",
      "order_status                                0  0.00\n",
      "transaction_date                            0  0.00\n",
      "customer_id                                 0  0.00\n",
      "product_id                                  0  0.00\n",
      "transaction_id                              0  0.00\n"
     ]
    }
   ],
   "source": [
    "counts = Transactions.isna().sum().sort_values(ascending=False)\n",
    "\n",
    "# Calculate the percentages of missing values in each column\n",
    "percent = round(Transactions.isna().mean() * 100, 2).sort_values(ascending=False)\n",
    "\n",
    "# Create a DataFrame containing missing value information\n",
    "df_demo_nan = pd.concat([counts, percent], axis=1, keys=['missing value counts', '%'])\n",
    "\n",
    "# Display the DataFrame\n",
    "print(df_demo_nan)"
   ]
  },
  {
   "cell_type": "code",
   "execution_count": 22,
   "metadata": {},
   "outputs": [
    {
     "name": "stdout",
     "output_type": "stream",
     "text": [
      "Percentages missing value of dataset : 2.77 %\n"
     ]
    }
   ],
   "source": [
    "nan_df = Transactions[Transactions.isna().any(axis=1)]\n",
    "nan_percent = round(len(nan_df)/len(Transactions)*100, 2)\n",
    "print('Percentages missing value of dataset :', nan_percent, '%')"
   ]
  },
  {
   "cell_type": "markdown",
   "metadata": {},
   "source": [
    "**Observation & recomendations For Transactions Dataset**\n",
    "\n",
    "Observation :\n",
    "1. The feature \"online_order\" has 360 missing values (1.80% of the data).\n",
    "2. The features \"product_first_sold_date,\" \"standard_cost,\" \"product_size,\" \"product_class,\" \"product_line,\" and \"brand\" also have 197 missing values each (0.98% of the data).\n",
    "3. Some other features have no missing values.\n",
    "\n",
    "Recommendation:\n",
    "\n",
    "1. Further examine the feature \"online_order\" which has a large number of missing values (1.80%) to find out the cause.\n",
    "2. Look for patterns or reasons behind the missing values in \"product_first_sold_date,\" \"standard_cost,\" \"product_size,\" \"product_class,\" \"product_line,\" and \"brand,\" and consider data imputation techniques or filling in missing values based on certain criteria.\n",
    "3. Although the percentage of missing values in the dataset (2.77%) is low, it is recommended to conduct further checks on features with missing values to ensure data quality and accuracy."
   ]
  },
  {
   "cell_type": "markdown",
   "metadata": {},
   "source": [
    "### 3. Checking Duplikat Records###"
   ]
  },
  {
   "cell_type": "code",
   "execution_count": 23,
   "metadata": {},
   "outputs": [
    {
     "data": {
      "text/plain": [
       "False"
      ]
     },
     "execution_count": 23,
     "metadata": {},
     "output_type": "execute_result"
    }
   ],
   "source": [
    "# checking duplicated data\n",
    "Transactions.duplicated().any()"
   ]
  },
  {
   "cell_type": "markdown",
   "metadata": {},
   "source": [
    "***🔎 Observation : There are no duplicate records***"
   ]
  },
  {
   "cell_type": "markdown",
   "metadata": {},
   "source": [
    "### 4. Statisctical Summary & Checking Distribution ###"
   ]
  },
  {
   "cell_type": "code",
   "execution_count": 27,
   "metadata": {},
   "outputs": [
    {
     "data": {
      "text/html": [
       "<div>\n",
       "<style scoped>\n",
       "    .dataframe tbody tr th:only-of-type {\n",
       "        vertical-align: middle;\n",
       "    }\n",
       "\n",
       "    .dataframe tbody tr th {\n",
       "        vertical-align: top;\n",
       "    }\n",
       "\n",
       "    .dataframe thead th {\n",
       "        text-align: right;\n",
       "    }\n",
       "</style>\n",
       "<table border=\"1\" class=\"dataframe\">\n",
       "  <thead>\n",
       "    <tr style=\"text-align: right;\">\n",
       "      <th></th>\n",
       "      <th>count</th>\n",
       "      <th>mean</th>\n",
       "      <th>std</th>\n",
       "      <th>min</th>\n",
       "      <th>25%</th>\n",
       "      <th>50%</th>\n",
       "      <th>75%</th>\n",
       "      <th>max</th>\n",
       "    </tr>\n",
       "  </thead>\n",
       "  <tbody>\n",
       "    <tr>\n",
       "      <th>transaction_id</th>\n",
       "      <td>20000.0</td>\n",
       "      <td>10000.500000</td>\n",
       "      <td>5773.647028</td>\n",
       "      <td>1.00</td>\n",
       "      <td>5000.75</td>\n",
       "      <td>10000.50</td>\n",
       "      <td>15000.25</td>\n",
       "      <td>20000.00</td>\n",
       "    </tr>\n",
       "    <tr>\n",
       "      <th>product_id</th>\n",
       "      <td>20000.0</td>\n",
       "      <td>45.364650</td>\n",
       "      <td>30.753590</td>\n",
       "      <td>0.00</td>\n",
       "      <td>18.00</td>\n",
       "      <td>44.00</td>\n",
       "      <td>72.00</td>\n",
       "      <td>100.00</td>\n",
       "    </tr>\n",
       "    <tr>\n",
       "      <th>customer_id</th>\n",
       "      <td>20000.0</td>\n",
       "      <td>1738.246050</td>\n",
       "      <td>1011.951046</td>\n",
       "      <td>1.00</td>\n",
       "      <td>857.75</td>\n",
       "      <td>1736.00</td>\n",
       "      <td>2613.00</td>\n",
       "      <td>5034.00</td>\n",
       "    </tr>\n",
       "    <tr>\n",
       "      <th>online_order</th>\n",
       "      <td>19640.0</td>\n",
       "      <td>0.500458</td>\n",
       "      <td>0.500013</td>\n",
       "      <td>0.00</td>\n",
       "      <td>0.00</td>\n",
       "      <td>1.00</td>\n",
       "      <td>1.00</td>\n",
       "      <td>1.00</td>\n",
       "    </tr>\n",
       "    <tr>\n",
       "      <th>list_price</th>\n",
       "      <td>20000.0</td>\n",
       "      <td>1107.829449</td>\n",
       "      <td>582.825242</td>\n",
       "      <td>12.01</td>\n",
       "      <td>575.27</td>\n",
       "      <td>1163.89</td>\n",
       "      <td>1635.30</td>\n",
       "      <td>2091.47</td>\n",
       "    </tr>\n",
       "    <tr>\n",
       "      <th>standard_cost</th>\n",
       "      <td>19803.0</td>\n",
       "      <td>556.046951</td>\n",
       "      <td>405.955660</td>\n",
       "      <td>7.21</td>\n",
       "      <td>215.14</td>\n",
       "      <td>507.58</td>\n",
       "      <td>795.10</td>\n",
       "      <td>1759.85</td>\n",
       "    </tr>\n",
       "    <tr>\n",
       "      <th>product_first_sold_date</th>\n",
       "      <td>19803.0</td>\n",
       "      <td>38199.776549</td>\n",
       "      <td>2875.201110</td>\n",
       "      <td>33259.00</td>\n",
       "      <td>35667.00</td>\n",
       "      <td>38216.00</td>\n",
       "      <td>40672.00</td>\n",
       "      <td>42710.00</td>\n",
       "    </tr>\n",
       "  </tbody>\n",
       "</table>\n",
       "</div>"
      ],
      "text/plain": [
       "                           count          mean          std       min  \\\n",
       "transaction_id           20000.0  10000.500000  5773.647028      1.00   \n",
       "product_id               20000.0     45.364650    30.753590      0.00   \n",
       "customer_id              20000.0   1738.246050  1011.951046      1.00   \n",
       "online_order             19640.0      0.500458     0.500013      0.00   \n",
       "list_price               20000.0   1107.829449   582.825242     12.01   \n",
       "standard_cost            19803.0    556.046951   405.955660      7.21   \n",
       "product_first_sold_date  19803.0  38199.776549  2875.201110  33259.00   \n",
       "\n",
       "                              25%       50%       75%       max  \n",
       "transaction_id            5000.75  10000.50  15000.25  20000.00  \n",
       "product_id                  18.00     44.00     72.00    100.00  \n",
       "customer_id                857.75   1736.00   2613.00   5034.00  \n",
       "online_order                 0.00      1.00      1.00      1.00  \n",
       "list_price                 575.27   1163.89   1635.30   2091.47  \n",
       "standard_cost              215.14    507.58    795.10   1759.85  \n",
       "product_first_sold_date  35667.00  38216.00  40672.00  42710.00  "
      ]
     },
     "execution_count": 27,
     "metadata": {},
     "output_type": "execute_result"
    }
   ],
   "source": [
    "# numerical value\n",
    "Transactions[nums_t].describe().T"
   ]
  },
  {
   "cell_type": "code",
   "execution_count": 29,
   "metadata": {},
   "outputs": [
    {
     "data": {
      "text/html": [
       "<div>\n",
       "<style scoped>\n",
       "    .dataframe tbody tr th:only-of-type {\n",
       "        vertical-align: middle;\n",
       "    }\n",
       "\n",
       "    .dataframe tbody tr th {\n",
       "        vertical-align: top;\n",
       "    }\n",
       "\n",
       "    .dataframe thead th {\n",
       "        text-align: right;\n",
       "    }\n",
       "</style>\n",
       "<table border=\"1\" class=\"dataframe\">\n",
       "  <thead>\n",
       "    <tr style=\"text-align: right;\">\n",
       "      <th></th>\n",
       "      <th>count</th>\n",
       "      <th>unique</th>\n",
       "      <th>top</th>\n",
       "      <th>freq</th>\n",
       "    </tr>\n",
       "  </thead>\n",
       "  <tbody>\n",
       "    <tr>\n",
       "      <th>order_status</th>\n",
       "      <td>20000</td>\n",
       "      <td>2</td>\n",
       "      <td>Approved</td>\n",
       "      <td>19821</td>\n",
       "    </tr>\n",
       "    <tr>\n",
       "      <th>brand</th>\n",
       "      <td>19803</td>\n",
       "      <td>6</td>\n",
       "      <td>Solex</td>\n",
       "      <td>4253</td>\n",
       "    </tr>\n",
       "    <tr>\n",
       "      <th>product_line</th>\n",
       "      <td>19803</td>\n",
       "      <td>4</td>\n",
       "      <td>Standard</td>\n",
       "      <td>14176</td>\n",
       "    </tr>\n",
       "    <tr>\n",
       "      <th>product_class</th>\n",
       "      <td>19803</td>\n",
       "      <td>3</td>\n",
       "      <td>medium</td>\n",
       "      <td>13826</td>\n",
       "    </tr>\n",
       "    <tr>\n",
       "      <th>product_size</th>\n",
       "      <td>19803</td>\n",
       "      <td>3</td>\n",
       "      <td>medium</td>\n",
       "      <td>12990</td>\n",
       "    </tr>\n",
       "  </tbody>\n",
       "</table>\n",
       "</div>"
      ],
      "text/plain": [
       "               count unique       top   freq\n",
       "order_status   20000      2  Approved  19821\n",
       "brand          19803      6     Solex   4253\n",
       "product_line   19803      4  Standard  14176\n",
       "product_class  19803      3    medium  13826\n",
       "product_size   19803      3    medium  12990"
      ]
     },
     "execution_count": 29,
     "metadata": {},
     "output_type": "execute_result"
    }
   ],
   "source": [
    "# categorical value\n",
    "Transactions[cats_t].describe().T"
   ]
  },
  {
   "cell_type": "code",
   "execution_count": 38,
   "metadata": {},
   "outputs": [
    {
     "data": {
      "image/png": "[encoded data removed]",
      "text/plain": [
       "<Figure size 648x504 with 7 Axes>"
      ]
     },
     "metadata": {
      "needs_background": "light"
     },
     "output_type": "display_data"
    }
   ],
   "source": [
    "# distribution numerical data\n",
    "nums_t = ['transaction_id', 'product_id', 'customer_id', 'list_price','standard_cost','product_first_sold_date', 'online_order']\n",
    "plt.figure(figsize=(9, 7))\n",
    "for i in range(0, len(nums_t)):\n",
    "    plt.subplot(3, 3, i+1)\n",
    "    sns.distplot(Transactions[nums_t[i]], color='blue')\n",
    "    plt.tight_layout()"
   ]
  },
  {
   "cell_type": "code",
   "execution_count": 40,
   "metadata": {},
   "outputs": [
    {
     "data": {
      "image/png": "[encoded data removed]",
      "text/plain": [
       "<Figure size 648x144 with 7 Axes>"
      ]
     },
     "metadata": {
      "needs_background": "light"
     },
     "output_type": "display_data"
    }
   ],
   "source": [
    "# distribution numerical data and check outlier\n",
    "plt.figure(figsize=(9, 2))\n",
    "for i in range(0, len(nums_t)):\n",
    "    plt.subplot(1, len(nums_t), i+1)\n",
    "    sns.boxplot(y=Transactions[nums_t[i]], color='blue', orient='v')\n",
    "    plt.tight_layout()"
   ]
  },
  {
   "cell_type": "code",
   "execution_count": 42,
   "metadata": {},
   "outputs": [
    {
     "data": {
      "image/png": "[encoded data removed]",
      "text/plain": [
       "<Figure size 1008x1008 with 5 Axes>"
      ]
     },
     "metadata": {
      "needs_background": "light"
     },
     "output_type": "display_data"
    }
   ],
   "source": [
    "plt.figure(figsize=(14, 14))\n",
    "for i in range(0, len(cats_t)):\n",
    "    plt.subplot(4, 2, i+1)\n",
    "    sns.countplot(x=Transactions[cats_t[i]], color='Blue', orient='v')\n",
    "    plt.tight_layout()"
   ]
  },
  {
   "cell_type": "markdown",
   "metadata": {},
   "source": [
    "***5. Data Cleaning: Handling Missing Values***"
   ]
  },
  {
   "cell_type": "code",
   "execution_count": 43,
   "metadata": {},
   "outputs": [
    {
     "data": {
      "text/plain": [
       "transaction_id               0\n",
       "product_id                   0\n",
       "customer_id                  0\n",
       "transaction_date             0\n",
       "online_order               360\n",
       "order_status                 0\n",
       "brand                      197\n",
       "product_line               197\n",
       "product_class              197\n",
       "product_size               197\n",
       "list_price                   0\n",
       "standard_cost              197\n",
       "product_first_sold_date    197\n",
       "dtype: int64"
      ]
     },
     "execution_count": 43,
     "metadata": {},
     "output_type": "execute_result"
    }
   ],
   "source": [
    "Transactions.isna().sum()"
   ]
  },
  {
   "cell_type": "code",
   "execution_count": 44,
   "metadata": {},
   "outputs": [],
   "source": [
    "# drop missing value\n",
    "Transactions.dropna(inplace=True)"
   ]
  },
  {
   "cell_type": "code",
   "execution_count": 45,
   "metadata": {},
   "outputs": [
    {
     "data": {
      "text/plain": [
       "transaction_id             0\n",
       "product_id                 0\n",
       "customer_id                0\n",
       "transaction_date           0\n",
       "online_order               0\n",
       "order_status               0\n",
       "brand                      0\n",
       "product_line               0\n",
       "product_class              0\n",
       "product_size               0\n",
       "list_price                 0\n",
       "standard_cost              0\n",
       "product_first_sold_date    0\n",
       "dtype: int64"
      ]
     },
     "execution_count": 45,
     "metadata": {},
     "output_type": "execute_result"
    }
   ],
   "source": [
    "# checking\n",
    "Transactions.isna().sum()"
   ]
  },
  {
   "cell_type": "markdown",
   "metadata": {},
   "source": [
    "The missing values in the dataset have been successfully addressed and resolved"
   ]
  },
  {
   "cell_type": "code",
   "execution_count": 47,
   "metadata": {},
   "outputs": [],
   "source": [
    "# changing to integer\n",
    "col_int = ['transaction_id', 'product_id', 'customer_id', 'product_first_sold_date']\n",
    "Transactions[col_int] = Transactions[col_int].astype('int64')"
   ]
  },
  {
   "cell_type": "code",
   "execution_count": 49,
   "metadata": {},
   "outputs": [],
   "source": [
    "# changing to float\n",
    "Transactions['standard_cost'] = Transactions['standard_cost'].astype('float64')"
   ]
  },
  {
   "cell_type": "code",
   "execution_count": 53,
   "metadata": {},
   "outputs": [],
   "source": [
    "# unix time values to datetime\n",
    "import datetime as dt\n",
    "Transactions['product_first_sold_date'] = pd.TimedeltaIndex(Transactions['product_first_sold_date'], unit='d') + dt.datetime(1900,1,1)"
   ]
  },
  {
   "cell_type": "code",
   "execution_count": 54,
   "metadata": {},
   "outputs": [
    {
     "data": {
      "text/html": [
       "<div>\n",
       "<style scoped>\n",
       "    .dataframe tbody tr th:only-of-type {\n",
       "        vertical-align: middle;\n",
       "    }\n",
       "\n",
       "    .dataframe tbody tr th {\n",
       "        vertical-align: top;\n",
       "    }\n",
       "\n",
       "    .dataframe thead th {\n",
       "        text-align: right;\n",
       "    }\n",
       "</style>\n",
       "<table border=\"1\" class=\"dataframe\">\n",
       "  <thead>\n",
       "    <tr style=\"text-align: right;\">\n",
       "      <th></th>\n",
       "      <th>transaction_id</th>\n",
       "      <th>product_id</th>\n",
       "      <th>customer_id</th>\n",
       "      <th>transaction_date</th>\n",
       "      <th>online_order</th>\n",
       "      <th>order_status</th>\n",
       "      <th>brand</th>\n",
       "      <th>product_line</th>\n",
       "      <th>product_class</th>\n",
       "      <th>product_size</th>\n",
       "      <th>list_price</th>\n",
       "      <th>standard_cost</th>\n",
       "      <th>product_first_sold_date</th>\n",
       "    </tr>\n",
       "  </thead>\n",
       "  <tbody>\n",
       "    <tr>\n",
       "      <th>18808</th>\n",
       "      <td>18809</td>\n",
       "      <td>56</td>\n",
       "      <td>2658</td>\n",
       "      <td>2017-09-08</td>\n",
       "      <td>0.0</td>\n",
       "      <td>Approved</td>\n",
       "      <td>OHM Cycles</td>\n",
       "      <td>Standard</td>\n",
       "      <td>medium</td>\n",
       "      <td>medium</td>\n",
       "      <td>183.86</td>\n",
       "      <td>137.90</td>\n",
       "      <td>1998-12-19</td>\n",
       "    </tr>\n",
       "    <tr>\n",
       "      <th>1026</th>\n",
       "      <td>1027</td>\n",
       "      <td>93</td>\n",
       "      <td>2032</td>\n",
       "      <td>2017-06-23</td>\n",
       "      <td>0.0</td>\n",
       "      <td>Approved</td>\n",
       "      <td>WeareA2B</td>\n",
       "      <td>Standard</td>\n",
       "      <td>medium</td>\n",
       "      <td>medium</td>\n",
       "      <td>1065.03</td>\n",
       "      <td>230.09</td>\n",
       "      <td>2004-01-18</td>\n",
       "    </tr>\n",
       "    <tr>\n",
       "      <th>3429</th>\n",
       "      <td>3430</td>\n",
       "      <td>98</td>\n",
       "      <td>482</td>\n",
       "      <td>2017-02-11</td>\n",
       "      <td>1.0</td>\n",
       "      <td>Approved</td>\n",
       "      <td>Trek Bicycles</td>\n",
       "      <td>Standard</td>\n",
       "      <td>high</td>\n",
       "      <td>medium</td>\n",
       "      <td>358.39</td>\n",
       "      <td>215.03</td>\n",
       "      <td>2004-01-18</td>\n",
       "    </tr>\n",
       "    <tr>\n",
       "      <th>1632</th>\n",
       "      <td>1633</td>\n",
       "      <td>7</td>\n",
       "      <td>3169</td>\n",
       "      <td>2017-05-09</td>\n",
       "      <td>0.0</td>\n",
       "      <td>Approved</td>\n",
       "      <td>Trek Bicycles</td>\n",
       "      <td>Road</td>\n",
       "      <td>low</td>\n",
       "      <td>medium</td>\n",
       "      <td>980.37</td>\n",
       "      <td>234.43</td>\n",
       "      <td>2005-12-09</td>\n",
       "    </tr>\n",
       "    <tr>\n",
       "      <th>15603</th>\n",
       "      <td>15604</td>\n",
       "      <td>37</td>\n",
       "      <td>3258</td>\n",
       "      <td>2017-07-11</td>\n",
       "      <td>0.0</td>\n",
       "      <td>Approved</td>\n",
       "      <td>OHM Cycles</td>\n",
       "      <td>Standard</td>\n",
       "      <td>low</td>\n",
       "      <td>medium</td>\n",
       "      <td>1793.43</td>\n",
       "      <td>248.82</td>\n",
       "      <td>1999-12-06</td>\n",
       "    </tr>\n",
       "    <tr>\n",
       "      <th>9008</th>\n",
       "      <td>9009</td>\n",
       "      <td>1</td>\n",
       "      <td>1969</td>\n",
       "      <td>2017-10-30</td>\n",
       "      <td>1.0</td>\n",
       "      <td>Approved</td>\n",
       "      <td>Giant Bicycles</td>\n",
       "      <td>Standard</td>\n",
       "      <td>medium</td>\n",
       "      <td>medium</td>\n",
       "      <td>1403.50</td>\n",
       "      <td>954.82</td>\n",
       "      <td>2003-02-09</td>\n",
       "    </tr>\n",
       "    <tr>\n",
       "      <th>1087</th>\n",
       "      <td>1088</td>\n",
       "      <td>68</td>\n",
       "      <td>2678</td>\n",
       "      <td>2017-07-21</td>\n",
       "      <td>1.0</td>\n",
       "      <td>Approved</td>\n",
       "      <td>OHM Cycles</td>\n",
       "      <td>Standard</td>\n",
       "      <td>medium</td>\n",
       "      <td>medium</td>\n",
       "      <td>1636.90</td>\n",
       "      <td>44.71</td>\n",
       "      <td>2010-08-22</td>\n",
       "    </tr>\n",
       "    <tr>\n",
       "      <th>8578</th>\n",
       "      <td>8579</td>\n",
       "      <td>76</td>\n",
       "      <td>411</td>\n",
       "      <td>2017-06-26</td>\n",
       "      <td>0.0</td>\n",
       "      <td>Approved</td>\n",
       "      <td>WeareA2B</td>\n",
       "      <td>Road</td>\n",
       "      <td>low</td>\n",
       "      <td>small</td>\n",
       "      <td>1172.78</td>\n",
       "      <td>1043.77</td>\n",
       "      <td>2002-10-12</td>\n",
       "    </tr>\n",
       "    <tr>\n",
       "      <th>9952</th>\n",
       "      <td>9953</td>\n",
       "      <td>86</td>\n",
       "      <td>2686</td>\n",
       "      <td>2017-02-01</td>\n",
       "      <td>0.0</td>\n",
       "      <td>Approved</td>\n",
       "      <td>OHM Cycles</td>\n",
       "      <td>Standard</td>\n",
       "      <td>medium</td>\n",
       "      <td>medium</td>\n",
       "      <td>235.63</td>\n",
       "      <td>125.07</td>\n",
       "      <td>2004-08-09</td>\n",
       "    </tr>\n",
       "    <tr>\n",
       "      <th>6369</th>\n",
       "      <td>6370</td>\n",
       "      <td>41</td>\n",
       "      <td>609</td>\n",
       "      <td>2017-03-14</td>\n",
       "      <td>1.0</td>\n",
       "      <td>Approved</td>\n",
       "      <td>Solex</td>\n",
       "      <td>Road</td>\n",
       "      <td>medium</td>\n",
       "      <td>medium</td>\n",
       "      <td>416.98</td>\n",
       "      <td>312.74</td>\n",
       "      <td>1997-05-12</td>\n",
       "    </tr>\n",
       "  </tbody>\n",
       "</table>\n",
       "</div>"
      ],
      "text/plain": [
       "       transaction_id  product_id  customer_id transaction_date  online_order  \\\n",
       "18808           18809          56         2658       2017-09-08           0.0   \n",
       "1026             1027          93         2032       2017-06-23           0.0   \n",
       "3429             3430          98          482       2017-02-11           1.0   \n",
       "1632             1633           7         3169       2017-05-09           0.0   \n",
       "15603           15604          37         3258       2017-07-11           0.0   \n",
       "9008             9009           1         1969       2017-10-30           1.0   \n",
       "1087             1088          68         2678       2017-07-21           1.0   \n",
       "8578             8579          76          411       2017-06-26           0.0   \n",
       "9952             9953          86         2686       2017-02-01           0.0   \n",
       "6369             6370          41          609       2017-03-14           1.0   \n",
       "\n",
       "      order_status           brand product_line product_class product_size  \\\n",
       "18808     Approved      OHM Cycles     Standard        medium       medium   \n",
       "1026      Approved        WeareA2B     Standard        medium       medium   \n",
       "3429      Approved   Trek Bicycles     Standard          high       medium   \n",
       "1632      Approved   Trek Bicycles         Road           low       medium   \n",
       "15603     Approved      OHM Cycles     Standard           low       medium   \n",
       "9008      Approved  Giant Bicycles     Standard        medium       medium   \n",
       "1087      Approved      OHM Cycles     Standard        medium       medium   \n",
       "8578      Approved        WeareA2B         Road           low        small   \n",
       "9952      Approved      OHM Cycles     Standard        medium       medium   \n",
       "6369      Approved           Solex         Road        medium       medium   \n",
       "\n",
       "       list_price  standard_cost product_first_sold_date  \n",
       "18808      183.86         137.90              1998-12-19  \n",
       "1026      1065.03         230.09              2004-01-18  \n",
       "3429       358.39         215.03              2004-01-18  \n",
       "1632       980.37         234.43              2005-12-09  \n",
       "15603     1793.43         248.82              1999-12-06  \n",
       "9008      1403.50         954.82              2003-02-09  \n",
       "1087      1636.90          44.71              2010-08-22  \n",
       "8578      1172.78        1043.77              2002-10-12  \n",
       "9952       235.63         125.07              2004-08-09  \n",
       "6369       416.98         312.74              1997-05-12  "
      ]
     },
     "execution_count": 54,
     "metadata": {},
     "output_type": "execute_result"
    }
   ],
   "source": [
    "#sampling dataset\n",
    "Transactions.sample(10)"
   ]
  },
  {
   "cell_type": "code",
   "execution_count": 58,
   "metadata": {},
   "outputs": [],
   "source": [
    "Transactions['online_order'] = Transactions['online_order'].astype('object')\n"
   ]
  },
  {
   "cell_type": "code",
   "execution_count": 59,
   "metadata": {},
   "outputs": [
    {
     "name": "stdout",
     "output_type": "stream",
     "text": [
      "<class 'pandas.core.frame.DataFrame'>\n",
      "Int64Index: 19445 entries, 0 to 19999\n",
      "Data columns (total 13 columns):\n",
      " #   Column                   Non-Null Count  Dtype         \n",
      "---  ------                   --------------  -----         \n",
      " 0   transaction_id           19445 non-null  int64         \n",
      " 1   product_id               19445 non-null  int64         \n",
      " 2   customer_id              19445 non-null  int64         \n",
      " 3   transaction_date         19445 non-null  datetime64[ns]\n",
      " 4   online_order             19445 non-null  object        \n",
      " 5   order_status             19445 non-null  object        \n",
      " 6   brand                    19445 non-null  object        \n",
      " 7   product_line             19445 non-null  object        \n",
      " 8   product_class            19445 non-null  object        \n",
      " 9   product_size             19445 non-null  object        \n",
      " 10  list_price               19445 non-null  float64       \n",
      " 11  standard_cost            19445 non-null  float64       \n",
      " 12  product_first_sold_date  19445 non-null  datetime64[ns]\n",
      "dtypes: datetime64[ns](2), float64(2), int64(3), object(6)\n",
      "memory usage: 2.1+ MB\n"
     ]
    }
   ],
   "source": [
    "Transactions.info()"
   ]
  },
  {
   "cell_type": "code",
   "execution_count": 141,
   "metadata": {},
   "outputs": [],
   "source": [
    "Transactions.to_csv('Trans_CLEAN.csv', index=False)"
   ]
  },
  {
   "cell_type": "markdown",
   "metadata": {},
   "source": [
    "# B. Customer Demographic"
   ]
  },
  {
   "cell_type": "markdown",
   "metadata": {},
   "source": [
    "### 1. EDA of Customer Demographic "
   ]
  },
  {
   "cell_type": "code",
   "execution_count": 61,
   "metadata": {},
   "outputs": [
    {
     "data": {
      "text/html": [
       "<div>\n",
       "<style scoped>\n",
       "    .dataframe tbody tr th:only-of-type {\n",
       "        vertical-align: middle;\n",
       "    }\n",
       "\n",
       "    .dataframe tbody tr th {\n",
       "        vertical-align: top;\n",
       "    }\n",
       "\n",
       "    .dataframe thead th {\n",
       "        text-align: right;\n",
       "    }\n",
       "</style>\n",
       "<table border=\"1\" class=\"dataframe\">\n",
       "  <thead>\n",
       "    <tr style=\"text-align: right;\">\n",
       "      <th></th>\n",
       "      <th>customer_id</th>\n",
       "      <th>first_name</th>\n",
       "      <th>last_name</th>\n",
       "      <th>gender</th>\n",
       "      <th>past_3_years_bike_related_purchases</th>\n",
       "      <th>DOB</th>\n",
       "      <th>job_title</th>\n",
       "      <th>job_industry_category</th>\n",
       "      <th>wealth_segment</th>\n",
       "      <th>deceased_indicator</th>\n",
       "      <th>default</th>\n",
       "      <th>owns_car</th>\n",
       "      <th>tenure</th>\n",
       "    </tr>\n",
       "  </thead>\n",
       "  <tbody>\n",
       "    <tr>\n",
       "      <th>2153</th>\n",
       "      <td>2154</td>\n",
       "      <td>Bird</td>\n",
       "      <td>Bolf</td>\n",
       "      <td>Female</td>\n",
       "      <td>86</td>\n",
       "      <td>1980-01-08</td>\n",
       "      <td>Chemical Engineer</td>\n",
       "      <td>Manufacturing</td>\n",
       "      <td>High Net Worth</td>\n",
       "      <td>N</td>\n",
       "      <td>ÅâÂ´â°ËÃÂ¨ËÃâââ</td>\n",
       "      <td>No</td>\n",
       "      <td>6.0</td>\n",
       "    </tr>\n",
       "    <tr>\n",
       "      <th>175</th>\n",
       "      <td>176</td>\n",
       "      <td>Angelo</td>\n",
       "      <td>Clayal</td>\n",
       "      <td>Male</td>\n",
       "      <td>39</td>\n",
       "      <td>1992-04-13</td>\n",
       "      <td>Accountant I</td>\n",
       "      <td>Property</td>\n",
       "      <td>Mass Customer</td>\n",
       "      <td>N</td>\n",
       "      <td>&lt;script&gt;alert('hi')&lt;/script&gt;</td>\n",
       "      <td>No</td>\n",
       "      <td>10.0</td>\n",
       "    </tr>\n",
       "    <tr>\n",
       "      <th>465</th>\n",
       "      <td>466</td>\n",
       "      <td>Jarad</td>\n",
       "      <td>Bauser</td>\n",
       "      <td>Male</td>\n",
       "      <td>84</td>\n",
       "      <td>1991-01-27</td>\n",
       "      <td>NaN</td>\n",
       "      <td>Manufacturing</td>\n",
       "      <td>Affluent Customer</td>\n",
       "      <td>N</td>\n",
       "      <td>0</td>\n",
       "      <td>Yes</td>\n",
       "      <td>2.0</td>\n",
       "    </tr>\n",
       "    <tr>\n",
       "      <th>3536</th>\n",
       "      <td>3537</td>\n",
       "      <td>Sholom</td>\n",
       "      <td>Pavlasek</td>\n",
       "      <td>Male</td>\n",
       "      <td>1</td>\n",
       "      <td>1997-01-15</td>\n",
       "      <td>Graphic Designer</td>\n",
       "      <td>Financial Services</td>\n",
       "      <td>Mass Customer</td>\n",
       "      <td>N</td>\n",
       "      <td>-100</td>\n",
       "      <td>No</td>\n",
       "      <td>4.0</td>\n",
       "    </tr>\n",
       "    <tr>\n",
       "      <th>138</th>\n",
       "      <td>139</td>\n",
       "      <td>Gar</td>\n",
       "      <td>NaN</td>\n",
       "      <td>Male</td>\n",
       "      <td>1</td>\n",
       "      <td>1964-07-28</td>\n",
       "      <td>Operator</td>\n",
       "      <td>Telecommunications</td>\n",
       "      <td>Affluent Customer</td>\n",
       "      <td>N</td>\n",
       "      <td>-100</td>\n",
       "      <td>No</td>\n",
       "      <td>4.0</td>\n",
       "    </tr>\n",
       "    <tr>\n",
       "      <th>10</th>\n",
       "      <td>11</td>\n",
       "      <td>Uriah</td>\n",
       "      <td>Bisatt</td>\n",
       "      <td>Male</td>\n",
       "      <td>99</td>\n",
       "      <td>1954-04-30</td>\n",
       "      <td>NaN</td>\n",
       "      <td>Property</td>\n",
       "      <td>Mass Customer</td>\n",
       "      <td>N</td>\n",
       "      <td>ÅâÂ´Â®â Â¥Â¨ËÃ¸Ïââ</td>\n",
       "      <td>No</td>\n",
       "      <td>9.0</td>\n",
       "    </tr>\n",
       "    <tr>\n",
       "      <th>3534</th>\n",
       "      <td>3535</td>\n",
       "      <td>Bren</td>\n",
       "      <td>Dabbes</td>\n",
       "      <td>Female</td>\n",
       "      <td>8</td>\n",
       "      <td>1994-09-15</td>\n",
       "      <td>Technical Writer</td>\n",
       "      <td>Manufacturing</td>\n",
       "      <td>High Net Worth</td>\n",
       "      <td>N</td>\n",
       "      <td>Ù¡Ù¢Ù£</td>\n",
       "      <td>No</td>\n",
       "      <td>6.0</td>\n",
       "    </tr>\n",
       "    <tr>\n",
       "      <th>2551</th>\n",
       "      <td>2552</td>\n",
       "      <td>Allard</td>\n",
       "      <td>Skipton</td>\n",
       "      <td>Male</td>\n",
       "      <td>1</td>\n",
       "      <td>1973-11-02</td>\n",
       "      <td>NaN</td>\n",
       "      <td>Manufacturing</td>\n",
       "      <td>Affluent Customer</td>\n",
       "      <td>N</td>\n",
       "      <td>(ï½¡â â âï½¡)</td>\n",
       "      <td>Yes</td>\n",
       "      <td>17.0</td>\n",
       "    </tr>\n",
       "    <tr>\n",
       "      <th>3732</th>\n",
       "      <td>3733</td>\n",
       "      <td>Shelden</td>\n",
       "      <td>Rodenburg</td>\n",
       "      <td>Male</td>\n",
       "      <td>70</td>\n",
       "      <td>1977-11-01</td>\n",
       "      <td>NaN</td>\n",
       "      <td>NaN</td>\n",
       "      <td>Mass Customer</td>\n",
       "      <td>N</td>\n",
       "      <td>â°â´âµ</td>\n",
       "      <td>No</td>\n",
       "      <td>11.0</td>\n",
       "    </tr>\n",
       "    <tr>\n",
       "      <th>3950</th>\n",
       "      <td>3951</td>\n",
       "      <td>Ephrem</td>\n",
       "      <td>Hollerin</td>\n",
       "      <td>Male</td>\n",
       "      <td>39</td>\n",
       "      <td>1975-02-10</td>\n",
       "      <td>Quality Control Specialist</td>\n",
       "      <td>NaN</td>\n",
       "      <td>Affluent Customer</td>\n",
       "      <td>N</td>\n",
       "      <td>ãã¼ãã£ã¼ã¸è¡ããªãã</td>\n",
       "      <td>Yes</td>\n",
       "      <td>9.0</td>\n",
       "    </tr>\n",
       "  </tbody>\n",
       "</table>\n",
       "</div>"
      ],
      "text/plain": [
       "      customer_id first_name  last_name  gender  \\\n",
       "2153         2154       Bird       Bolf  Female   \n",
       "175           176     Angelo     Clayal    Male   \n",
       "465           466      Jarad     Bauser    Male   \n",
       "3536         3537     Sholom   Pavlasek    Male   \n",
       "138           139        Gar        NaN    Male   \n",
       "10             11      Uriah     Bisatt    Male   \n",
       "3534         3535       Bren     Dabbes  Female   \n",
       "2551         2552     Allard    Skipton    Male   \n",
       "3732         3733    Shelden  Rodenburg    Male   \n",
       "3950         3951     Ephrem   Hollerin    Male   \n",
       "\n",
       "      past_3_years_bike_related_purchases        DOB  \\\n",
       "2153                                   86 1980-01-08   \n",
       "175                                    39 1992-04-13   \n",
       "465                                    84 1991-01-27   \n",
       "3536                                    1 1997-01-15   \n",
       "138                                     1 1964-07-28   \n",
       "10                                     99 1954-04-30   \n",
       "3534                                    8 1994-09-15   \n",
       "2551                                    1 1973-11-02   \n",
       "3732                                   70 1977-11-01   \n",
       "3950                                   39 1975-02-10   \n",
       "\n",
       "                       job_title job_industry_category     wealth_segment  \\\n",
       "2153           Chemical Engineer         Manufacturing     High Net Worth   \n",
       "175                 Accountant I              Property      Mass Customer   \n",
       "465                          NaN         Manufacturing  Affluent Customer   \n",
       "3536            Graphic Designer    Financial Services      Mass Customer   \n",
       "138                     Operator    Telecommunications  Affluent Customer   \n",
       "10                           NaN              Property      Mass Customer   \n",
       "3534            Technical Writer         Manufacturing     High Net Worth   \n",
       "2551                         NaN         Manufacturing  Affluent Customer   \n",
       "3732                         NaN                   NaN      Mass Customer   \n",
       "3950  Quality Control Specialist                   NaN  Affluent Customer   \n",
       "\n",
       "     deceased_indicator                       default owns_car  tenure  \n",
       "2153                  N               ÅâÂ´â°ËÃÂ¨ËÃâââ       No     6.0  \n",
       "175                   N  <script>alert('hi')</script>       No    10.0  \n",
       "465                   N                             0      Yes     2.0  \n",
       "3536                  N                          -100       No     4.0  \n",
       "138                   N                          -100       No     4.0  \n",
       "10                    N            ÅâÂ´Â®â Â¥Â¨ËÃ¸Ïââ       No     9.0  \n",
       "3534                  N                        Ù¡Ù¢Ù£       No     6.0  \n",
       "2551                  N                 (ï½¡â â âï½¡)      Yes    17.0  \n",
       "3732                  N                        â°â´âµ       No    11.0  \n",
       "3950                  N             ãã¼ãã£ã¼ã¸è¡ããªãã      Yes     9.0  "
      ]
     },
     "execution_count": 61,
     "metadata": {},
     "output_type": "execute_result"
    }
   ],
   "source": [
    "CustomerDemographic.sample(10)"
   ]
  },
  {
   "cell_type": "code",
   "execution_count": 62,
   "metadata": {},
   "outputs": [
    {
     "data": {
      "text/plain": [
       "(4000, 13)"
      ]
     },
     "execution_count": 62,
     "metadata": {},
     "output_type": "execute_result"
    }
   ],
   "source": [
    "# checking shape\n",
    "CustomerDemographic.shape"
   ]
  },
  {
   "cell_type": "code",
   "execution_count": 63,
   "metadata": {},
   "outputs": [
    {
     "name": "stdout",
     "output_type": "stream",
     "text": [
      "<class 'pandas.core.frame.DataFrame'>\n",
      "RangeIndex: 4000 entries, 0 to 3999\n",
      "Data columns (total 13 columns):\n",
      " #   Column                               Non-Null Count  Dtype         \n",
      "---  ------                               --------------  -----         \n",
      " 0   customer_id                          4000 non-null   int64         \n",
      " 1   first_name                           4000 non-null   object        \n",
      " 2   last_name                            3875 non-null   object        \n",
      " 3   gender                               4000 non-null   object        \n",
      " 4   past_3_years_bike_related_purchases  4000 non-null   int64         \n",
      " 5   DOB                                  3913 non-null   datetime64[ns]\n",
      " 6   job_title                            3494 non-null   object        \n",
      " 7   job_industry_category                3344 non-null   object        \n",
      " 8   wealth_segment                       4000 non-null   object        \n",
      " 9   deceased_indicator                   4000 non-null   object        \n",
      " 10  default                              3698 non-null   object        \n",
      " 11  owns_car                             4000 non-null   object        \n",
      " 12  tenure                               3913 non-null   float64       \n",
      "dtypes: datetime64[ns](1), float64(1), int64(2), object(9)\n",
      "memory usage: 406.4+ KB\n"
     ]
    }
   ],
   "source": [
    "# checking dataset info\n",
    "CustomerDemographic.info()"
   ]
  },
  {
   "cell_type": "code",
   "execution_count": 65,
   "metadata": {},
   "outputs": [
    {
     "name": "stdout",
     "output_type": "stream",
     "text": [
      "customer_id have 4000 unique values: int64\n",
      "customer_id values: [   1    2    3 ... 3998 3999 4000]\n",
      "\n",
      "first_name have 3139 unique values: object\n",
      "first_name values: ['Laraine' 'Eli' 'Arlin' ... 'Stephie' 'Rusty' 'Sarene']\n",
      "\n",
      "last_name have 3725 unique values: object\n",
      "last_name values: ['Medendorp' 'Bockman' 'Dearle' ... 'Halgarth' 'Woolley' 'Oldland']\n",
      "\n",
      "gender have 6 unique values: object\n",
      "gender values: ['F' 'Male' 'Female' 'U' 'Femal' 'M']\n",
      "\n",
      "past_3_years_bike_related_purchases have 100 unique values: int64\n",
      "past_3_years_bike_related_purchases values: [93 81 61 33 56 35  6 31 97 49 99 58 38 85 91 57 79 76 72 74 43 55 12 37\n",
      "  5 62 18  3 17 44 59 40 46 64 24 63 98 51 68 22  2 48 87 26 60 47 73 21\n",
      " 67 16 78 30 94 28 20 11  1 75 41 69 19 80 83 25 54  4 23 65 88 10 77  9\n",
      " 82 27 53 32 34 71 36 90 95  8 39  7 42 13 45 50 14 89 84 96 70 66  0 15\n",
      " 86 92 29 52]\n",
      "\n",
      "DOB have 3448 unique values: datetime64[ns]\n",
      "job_title have 195 unique values: object\n",
      "job_title values: ['Executive Secretary' 'Administrative Officer' 'Recruiting Manager' nan\n",
      " 'Senior Editor' 'Media Manager I' 'Business Systems Development Analyst'\n",
      " 'Senior Quality Engineer' 'Nuclear Power Engineer' 'Developer I'\n",
      " 'Account Executive' 'Junior Executive' 'Media Manager IV'\n",
      " 'Sales Associate' 'Professor' 'Geological Engineer' 'Project Manager'\n",
      " 'Safety Technician I' 'Research Assistant I' 'Accounting Assistant III'\n",
      " 'Editor' 'Research Nurse' 'Safety Technician III' 'Staff Accountant III'\n",
      " 'Legal Assistant' 'Product Engineer' 'Information Systems Manager'\n",
      " 'VP Quality Control' 'Social Worker' 'Senior Cost Accountant'\n",
      " 'Assistant Media Planner' 'Payment Adjustment Coordinator' 'Food Chemist'\n",
      " 'Accountant III' 'Director of Sales' 'Senior Financial Analyst'\n",
      " 'Registered Nurse' 'Biostatistician II' 'Computer Systems Analyst II'\n",
      " 'Software Test Engineer II' 'Paralegal' 'VP Sales'\n",
      " 'Chief Design Engineer' 'Office Assistant III'\n",
      " 'Physical Therapy Assistant' 'Help Desk Operator' 'Web Developer II'\n",
      " 'Research Associate' 'Teacher' 'VP Product Management' 'Statistician II'\n",
      " 'Automation Specialist IV' 'Data Coordiator' 'Software Test Engineer III'\n",
      " 'Internal Auditor' 'Analyst Programmer' 'Occupational Therapist'\n",
      " 'Speech Pathologist' 'Quality Control Specialist' 'Civil Engineer'\n",
      " 'Software Engineer III' 'Community Outreach Specialist'\n",
      " 'Safety Technician IV' 'VP Accounting' 'General Manager'\n",
      " 'Nurse Practicioner' 'Automation Specialist II' 'Marketing Assistant'\n",
      " 'Marketing Manager' 'Staff Scientist' 'Assistant Professor'\n",
      " 'Budget/Accounting Analyst IV' 'Associate Professor' 'Graphic Designer'\n",
      " 'Administrative Assistant II' 'Compensation Analyst'\n",
      " 'Systems Administrator III' 'Financial Advisor' 'Chemical Engineer'\n",
      " 'Web Designer I' 'Senior Developer' 'Office Assistant II' 'Recruiter'\n",
      " 'Operator' 'Programmer Analyst III' 'Quality Engineer'\n",
      " 'Environmental Tech' 'Analog Circuit Design manager' 'Cost Accountant'\n",
      " 'Librarian' 'Structural Analysis Engineer' 'Pharmacist'\n",
      " 'Assistant Manager' 'Accountant I' 'Web Designer III' 'Geologist III'\n",
      " 'Software Test Engineer I' 'Structural Engineer' 'Safety Technician II'\n",
      " 'Web Developer III' 'Programmer Analyst II' 'Design Engineer'\n",
      " 'Statistician I' 'VP Marketing' 'Desktop Support Technician' 'Actuary'\n",
      " 'Database Administrator III' 'Electrical Engineer' 'Tax Accountant'\n",
      " 'Clinical Specialist' 'Database Administrator IV'\n",
      " 'Systems Administrator II' 'Account Coordinator' 'Programmer III'\n",
      " 'Administrative Assistant III' 'Nurse' 'Technical Writer'\n",
      " 'Staff Accountant II' 'Dental Hygienist' 'Sales Representative'\n",
      " 'Budget/Accounting Analyst III' 'Computer Systems Analyst IV'\n",
      " 'Geologist I' 'Financial Analyst' 'Accounting Assistant II'\n",
      " 'Senior Sales Associate' 'Database Administrator II' 'Engineer I'\n",
      " 'Budget/Accounting Analyst I' 'Developer IV' 'Database Administrator I'\n",
      " 'Environmental Specialist' 'Computer Systems Analyst I'\n",
      " 'Account Representative IV' 'Statistician IV' 'Human Resources Manager'\n",
      " 'GIS Technical Architect' 'Programmer IV' 'Accounting Assistant IV'\n",
      " 'Software Engineer IV' 'Programmer II' 'Engineer III'\n",
      " 'Software Consultant' 'Biostatistician IV' 'Help Desk Technician'\n",
      " 'Automation Specialist I' 'Developer III' 'Human Resources Assistant I'\n",
      " 'Geologist IV' 'Media Manager II' 'Statistician III' 'Engineer II'\n",
      " 'Health Coach II' 'Developer II' 'Systems Administrator I'\n",
      " 'Web Developer I' 'Software Engineer II' 'Accounting Assistant I'\n",
      " 'Research Assistant II' 'Programmer Analyst IV' 'Health Coach I'\n",
      " 'Accountant II' 'Automation Specialist III' 'Administrative Assistant I'\n",
      " 'Health Coach IV' 'Media Manager III' 'Account Representative III'\n",
      " 'Web Designer IV' 'Budget/Accounting Analyst II' 'Web Developer IV'\n",
      " 'Programmer I' 'Biostatistician III' 'Software Test Engineer IV'\n",
      " 'Research Assistant IV' 'Account Representative I' 'Accountant IV'\n",
      " 'Biostatistician I' 'Human Resources Assistant IV'\n",
      " 'Administrative Assistant IV' 'Office Assistant I'\n",
      " 'Human Resources Assistant II' 'Mechanical Systems Engineer'\n",
      " 'Engineer IV' 'Health Coach III' 'Office Assistant IV'\n",
      " 'Software Engineer I' 'Human Resources Assistant III'\n",
      " 'Staff Accountant I' 'Computer Systems Analyst III' 'Geologist II'\n",
      " 'Web Designer II' 'Staff Accountant IV' 'Account Representative II'\n",
      " 'Programmer Analyst I' 'Systems Administrator IV'\n",
      " 'Research Assistant III']\n",
      "\n",
      "job_industry_category have 9 unique values: object\n",
      "job_industry_category values: ['Health' 'Financial Services' 'Property' 'IT' nan 'Retail' 'Argiculture'\n",
      " 'Manufacturing' 'Telecommunications' 'Entertainment']\n",
      "\n",
      "wealth_segment have 3 unique values: object\n",
      "wealth_segment values: ['Mass Customer' 'Affluent Customer' 'High Net Worth']\n",
      "\n",
      "deceased_indicator have 2 unique values: object\n",
      "deceased_indicator values: ['N' 'Y']\n",
      "\n",
      "default have 90 unique values: object\n",
      "default values: ['\"\\'' \"<script>alert('hi')</script>\" datetime.datetime(2018, 2, 1, 0, 0)\n",
      " '() { _; } >_[$($())] { touch /tmp/blns.shellshock2.fail; }' 'NIL'\n",
      " 'ðµ ð ð ð' 'â°â´âµâââ' '(â¯Â°â¡Â°ï¼â¯ï¸µ â»ââ»)' '0/0' 'ð©ð½'\n",
      " 'ÅâÂ´Â®â\\xa0Â¥Â¨ËÃ¸Ïââ' 'nil' -100 'â°â´âµ' 'ð'\n",
      " 1000000000000000049861653971908893017010268485438462151574892930611988399099305815384459015356416\n",
      " 'ï¾ï½¥â¿ã¾â²(ï½¡ââ¿âï½¡)â±â¿ï½¥ï¾' 'Î©âÃ§ââ«ËÂµâ¤â¥Ã·' 'ÅâÂ´â°ËÃÂ¨ËÃâââ'\n",
      " 'ï¼ï¼ï¼' '../../../../../../../../../../../etc/hosts'\n",
      " '×Ö¸×Ö°×ªÖ¸×testØ§ÙØµÙØ\\xadØ§Øª Ø§ÙØªÙØ\\xadÙÙ' '<>?:\"{}|_+' '\\'\\'\\'\\'\"'\n",
      " \",./;'[]\\\\-=\" '() { 0; }; touch /tmp/blns.shellshock1.fail;'\n",
      " 'ì¬íê³¼íì ì´íì°êµ¬ì' 'testâ\\xa0testâ«'\n",
      " '0ï¸â£ 1ï¸â£ 2ï¸â£ 3ï¸â£ 4ï¸â£ 5ï¸â£ 6ï¸â£ 7ï¸â£ 8ï¸â£ 9ï¸â£ ð' nan\n",
      " '!@#$%^&*()' \"'\"\n",
      " 'Ì¦HÍÌ¬Ì¤ÌÌ¤eÍ ÍÌÌ¥ÌÌ»ÍÌwÌhÌÌ¯ÍoÌÍÌÍÌ±Ì® ÒÌºÌÌÌÍWÌ·Ì¼Ì\\xadaÌºÌªÍiÌ¨ÍÍÌ\\xadÍÌ¯ÌtÌ¶Ì¼Ì®sÌÌÍÍ Ì\\xa0Ì«Ì\\xa0BÌ»ÍÍÍÍÌ³eÌµhÌµÌ¬ÍÌ«ÍiÌÌ¹ÍÌ³Ì³Ì®ÍÌ«nÍdÌ´ÌªÌÌ ÍÌ°ÍÌ©ÍÍÍÌ²TÍ¢ÍÌ¼ÍÌªhÍÍÌ®Ì»eÌ¬ÌÍÌ Ì¤Ì¹ÌWÍÍÍÌÌÍÍaÍÍÍÌ¹Ì¼'\n",
      " '../../../../../../../../../../../etc/passwd%00' 'åè£½æ¼¢èª'\n",
      " '`ââ¬â¹âºï¬ï¬â¡Â°Â·ââÂ±' 'ãã¼ãã£ã¼ã¸è¡ããªãã' 1 -0.5\n",
      " 'ZÌ®ÌÍÌ\\xa0ÍÍAÌ¥ÌÌÍÌ»ÌLÌ£ÍÍÌ¯Ì¹ÌÍGÌ»OÌ\\xadÌÌ®' 'ã' 100\n",
      " '1;DROP TABLE users' -1 'á' '(ï¾à²¥çà²¥ï¼ï¾ï»¿ â»ââ»' '00ËÆ$-' '1/0'\n",
      " 'ï½ï½¨(Â´âï½â©' \"<svg><script>0<1>alert('XSS')</script>\" 'âââ'\n",
      " 'ã»(ï¿£âï¿£)ã»:*:' ',ãã»:*:ã»ãâ( â» Ï â» )ãã»:*:ã»ãâ' 'â¢'\n",
      " 'ç°ä¸\\xadããã«ããã¦ä¸ãã' '__ï¾(,_,*)' 'Ù¡Ù¢Ù£'\n",
      " 'Ø«Ù ÙÙØ³ Ø³ÙØ·Øª ÙØ¨Ø§ÙØªØ\\xadØ¯ÙØ¯Ø, Ø¬Ø²ÙØ±ØªÙ Ø¨Ø§Ø³ØªØ®Ø¯Ø§Ù Ø£Ù Ø¯ÙÙ. Ø¥Ø° ÙÙØ§Ø Ø§ÙØ³ØªØ§Ø± ÙØªÙØµÙØ¨ ÙØ§Ù. Ø£ÙÙÙ Ø§ÙØ·Ø§ÙÙØ§Ø Ø¨Ø±ÙØ·Ø§ÙÙØ§-ÙØ±ÙØ³Ø§ ÙØ¯ Ø£Ø®Ø°. Ø³ÙÙÙØ§ÙØ Ø¥ØªÙØ§ÙÙØ© Ø¨ÙÙ ÙØ§, ÙØ°ÙØ± Ø'\n",
      " 'ð¾ ð ð ð ð ð ð ð§' \"<img src=x onerror=alert('hi') />\"\n",
      " 'ã½à¼¼àºÙÍàºà¼½ï¾ ã½à¼¼àºÙÍàºà¼½ï¾' 'âð¿ ðªð¿ ðð¿ ðð¿ ðð¿ ðð¿'\n",
      " 'TÌÌ\\xadÌºÌºoÍ Ì·iÌ²Ì¬ÍÌªÍnÌÌÍvÍÌÌÌÌ¦oÌ¶ÌÌ°Ì\\xa0keÍÍÌ®ÌºÌªÌ¹Ì±Ì¤ ÌtÍÌÍÌ³Ì£Ì»ÌªhÌ¼ÍÌ²Ì¦Ì³ÌÌ²eÍÌ£Ì°Ì¦Ì¬Í Ì¢Ì¼Ì»Ì±ÌhÍÍÍÍÌÌ£Ì²iÌ¦Ì²Ì£Ì°Ì¤vÌ»ÍeÌºÌ\\xadÌ³ÌªÌ°-mÌ¢iÍnÌÌºÌÌ²Ì¯Ì°dÌµÌ¼ÌÍÌ©Ì¼ÌÌ³ ÌÌ¥Ì±Ì³Ì\\xadrÌÌÌeÍpÍ\\xa0rÌ¼ÌÌ»Ì\\xadÌeÍÌºÌ\\xa0Ì£sÌ'\n",
      " 'ÃÃÃÃËÃÃï£¿ÃÃÃâ' '(ï½¡â â âï½¡)' 'é¨è½æ\\xa0¼'\n",
      " \"ËÉnbá´lÉ ÉuÆÉÉ¯ ÇÉ¹olop ÊÇ ÇÉ¹oqÉl Ên Êunpá´pá´Éuá´ É¹odÉ¯ÇÊ poÉ¯sná´Ç op pÇs 'Êá´lÇ Æuá´Ésá´dá´pÉ É¹nÊÇÊÉÇsuoÉ 'ÊÇÉ¯É Êá´s É¹olop É¯nsdá´ É¯ÇÉ¹oË¥\"\n",
      " 'á\\xa0'\n",
      " '×Ö¼Ö°×¨Öµ××©×Ö´××ª, ×Ö¼Ö¸×¨Ö¸× ×Ö±×Ö¹×Ö´××, ×Öµ×ª ×Ö·×©Ö¼×Ö¸×Ö·×Ö´×, ×Ö°×Öµ×ª ×Ö¸×Ö¸×¨Ö¶×¥'\n",
      " 'Â¡â¢Â£Â¢âÂ§Â¶â¢ÂªÂºââ\\xa0' '/dev/null; touch /tmp/blns.fail ; echo'\n",
      " \"1'; DROP TABLE users--\" 'ð¾ ð ð ð ð ð ð ð'\n",
      " 'Ì¡ÍÍÌIÍÌÌÌ¦nÍÍÍvÌ®Ì«okÌ²Ì«ÌÍiÌÍÌ\\xadÌ¹Ì\\xa0ÌnÌ¡Ì»Ì®Ì£ÌºgÌ²ÍÍÌ\\xadÍÌ¬Í Ì°tÍÌ¦hÌÌ²eÌ¢Ì¤ ÍÌ¬Ì²ÍfÌ´ÌÍÌ£eÍÍeÌ£Ì¥Ì©lÍÍÍiÍ\\xa0ÍÍÌ¦nÍÍÌÍÌ³Ì®gÍ Ì¨oÍ¡ÍÌªfÌÌ£Ì¬ ÌÌÍÌÍÌ®cÒÍÌ«ÍÍÍÍÍhÌµÌ¤Ì£ÍÍaÍÌÌ¼ÍÍoÌ¼Ì£Ì¥sÍ¢Ì±ÍÌºÌÌ¦Ì».ÌÌ'\n",
      " 'â' 'Â¸ËÃâÄ±ËÃÂ¯ËÂ¿' 'ì¸ëë°í\\xa0ë¥´'\n",
      " 'ÌÌºÍÌ¹Ì¯ÍTÌ±Ì¤ÍÌ¥ÍÍhÍÌ²eÍÍÌ¼ÌÌÌ¼Ì£Í ÍÌÌ±Ì\\xa0ÍÍÍNÍ\\xa0ÍeÌÌ±zÌÌÌÌºÍpÌ¤ÌºÌ¹ÍÌ¯ÍeÍÌ\\xa0Ì»Ì\\xa0rÌ¨Ì¤ÍÌºÌÍÌÌdÍÌ\\xa0ÌÌ\\xadÌ¬ÌiÌ¦ÍÌ©ÍÍÌ¤aÌ\\xa0ÌÌ¬ÍÌnÍÍ Ì»ÌÌ°ÍÍhÌµÍiÌ³ÌvÌ¢ÍeÍÌ\\xadÍ-ÒÌ\\xadÌ©Ì¼ÍmÌ¤Ì\\xadÌ«iÍÍÌÌ¦nÌÍdÌ£Ì ÍÌ¯Ì²ÍoÌ¨ÌÌ¯Ì°Ì²'\n",
      " 0 'â©testâ©' 'â£' 'Ã¥ÃâÆÂ©ËâËÂ¬â¦Ã¦' 'ç¤¾æç§å\\xad¸é¢èªå\\xad¸ç\\xa0ç©¶æ'\n",
      " 'âªâªtestâª' 'ï»¿' 'â¤ï¸ ð ð ð ð ð ð ð ð ð ð ð ð ð ð' 'â«testâ«'\n",
      " 'â¦testâ§' '\\'\"\\'\\'\\'\\'\"' 'â¡'\n",
      " 'ð\\xa0ð\\xa0±ð\\xa0¹ð\\xa0±ð\\xa0±¸ð\\xa0²ð\\xa0³']\n",
      "\n",
      "owns_car have 2 unique values: object\n",
      "owns_car values: ['Yes' 'No']\n",
      "\n",
      "tenure have 22 unique values: float64\n",
      "tenure values: [11. 16. 15.  7.  8. 13. 20.  9.  6.  1. 18. 21. 12. 19. 14.  4. 22.  5.\n",
      " 17.  2.  3. 10. nan]\n",
      "\n"
     ]
    }
   ],
   "source": [
    "# Checking unique value from each columns\n",
    "for col in CustomerDemographic.columns:\n",
    "    print(\"{} have {} unique values: {}\".format(col, CustomerDemographic[col].nunique(), CustomerDemographic[col].dtypes))\n",
    "    if CustomerDemographic[col].dtypes == 'int64' or CustomerDemographic[col].dtypes == 'float' or CustomerDemographic[col].dtypes == 'object':\n",
    "        print(\"{} values: {}\".format(col,CustomerDemographic[col].unique()))\n",
    "        print('')"
   ]
  },
  {
   "cell_type": "code",
   "execution_count": 66,
   "metadata": {},
   "outputs": [
    {
     "name": "stdout",
     "output_type": "stream",
     "text": [
      "['customer_id', 'past_3_years_bike_related_purchases', 'tenure']\n",
      "Counts : 3\n"
     ]
    }
   ],
   "source": [
    "# numerical data\n",
    "nums = CustomerDemographic.loc[:, (CustomerDemographic.dtypes == 'int64') | (CustomerDemographic.dtypes == float)].columns.tolist()\n",
    "print(nums)\n",
    "print('Counts :', len(nums))"
   ]
  },
  {
   "cell_type": "code",
   "execution_count": 67,
   "metadata": {},
   "outputs": [
    {
     "name": "stdout",
     "output_type": "stream",
     "text": [
      "['first_name', 'last_name', 'gender', 'job_title', 'job_industry_category', 'wealth_segment', 'deceased_indicator', 'default', 'owns_car']\n",
      "Counts : 9\n"
     ]
    }
   ],
   "source": [
    "# categorical data\n",
    "cats = CustomerDemographic.loc[:, (CustomerDemographic.dtypes == object)].columns.tolist() \n",
    "print(cats)\n",
    "print('Counts :', len(cats))"
   ]
  },
  {
   "cell_type": "code",
   "execution_count": 68,
   "metadata": {},
   "outputs": [
    {
     "name": "stdout",
     "output_type": "stream",
     "text": [
      "['DOB']\n",
      "Counts: 1\n"
     ]
    }
   ],
   "source": [
    "#datetime data\n",
    "# Check if each column is of datetime type\n",
    "date_time_columns = CustomerDemographic.select_dtypes(include=['datetime64[ns]']).columns.tolist()\n",
    "\n",
    "# Print the datetime columns and their counts\n",
    "print(date_time_columns)\n",
    "print('Counts:', len(date_time_columns))\n"
   ]
  },
  {
   "cell_type": "markdown",
   "metadata": {},
   "source": [
    " **Observation :**\n",
    "1. The dataset contains 4000 records and 13 columns, out of which 3 columns are numerical, datetime 1, and 9 columns are categorical.\n",
    "2. The \"tenure\" column should be of integer data type.\n",
    "3. There are some irrelevant columns, such as \"default,\" which should be dropped from the dataset.\n",
    "4. The \"gender\" column has inconsistent values that need to be addressed and treated."
   ]
  },
  {
   "cell_type": "markdown",
   "metadata": {},
   "source": [
    "### 2. Checking Missing Values "
   ]
  },
  {
   "cell_type": "code",
   "execution_count": 71,
   "metadata": {},
   "outputs": [
    {
     "name": "stdout",
     "output_type": "stream",
     "text": [
      "Percentages missing value of dataset CustomerDemographic : 34.25 %\n"
     ]
    }
   ],
   "source": [
    "# percentages missing value of dataset\n",
    "nan_df = CustomerDemographic[CustomerDemographic.isna().any(axis=1)]\n",
    "nan_percent = round(len(nan_df)/len(CustomerDemographic)*100, 2)\n",
    "print('Percentages missing value of dataset CustomerDemographic :', nan_percent, '%')"
   ]
  },
  {
   "cell_type": "code",
   "execution_count": 73,
   "metadata": {},
   "outputs": [
    {
     "data": {
      "text/html": [
       "<div>\n",
       "<style scoped>\n",
       "    .dataframe tbody tr th:only-of-type {\n",
       "        vertical-align: middle;\n",
       "    }\n",
       "\n",
       "    .dataframe tbody tr th {\n",
       "        vertical-align: top;\n",
       "    }\n",
       "\n",
       "    .dataframe thead th {\n",
       "        text-align: right;\n",
       "    }\n",
       "</style>\n",
       "<table border=\"1\" class=\"dataframe\">\n",
       "  <thead>\n",
       "    <tr style=\"text-align: right;\">\n",
       "      <th></th>\n",
       "      <th>missing value counts</th>\n",
       "      <th>%</th>\n",
       "    </tr>\n",
       "  </thead>\n",
       "  <tbody>\n",
       "    <tr>\n",
       "      <th>job_industry_category</th>\n",
       "      <td>656</td>\n",
       "      <td>16.40</td>\n",
       "    </tr>\n",
       "    <tr>\n",
       "      <th>job_title</th>\n",
       "      <td>506</td>\n",
       "      <td>12.65</td>\n",
       "    </tr>\n",
       "    <tr>\n",
       "      <th>default</th>\n",
       "      <td>302</td>\n",
       "      <td>7.55</td>\n",
       "    </tr>\n",
       "    <tr>\n",
       "      <th>last_name</th>\n",
       "      <td>125</td>\n",
       "      <td>3.12</td>\n",
       "    </tr>\n",
       "    <tr>\n",
       "      <th>tenure</th>\n",
       "      <td>87</td>\n",
       "      <td>2.17</td>\n",
       "    </tr>\n",
       "    <tr>\n",
       "      <th>DOB</th>\n",
       "      <td>87</td>\n",
       "      <td>2.17</td>\n",
       "    </tr>\n",
       "    <tr>\n",
       "      <th>owns_car</th>\n",
       "      <td>0</td>\n",
       "      <td>0.00</td>\n",
       "    </tr>\n",
       "    <tr>\n",
       "      <th>deceased_indicator</th>\n",
       "      <td>0</td>\n",
       "      <td>0.00</td>\n",
       "    </tr>\n",
       "    <tr>\n",
       "      <th>wealth_segment</th>\n",
       "      <td>0</td>\n",
       "      <td>0.00</td>\n",
       "    </tr>\n",
       "    <tr>\n",
       "      <th>past_3_years_bike_related_purchases</th>\n",
       "      <td>0</td>\n",
       "      <td>0.00</td>\n",
       "    </tr>\n",
       "    <tr>\n",
       "      <th>gender</th>\n",
       "      <td>0</td>\n",
       "      <td>0.00</td>\n",
       "    </tr>\n",
       "    <tr>\n",
       "      <th>first_name</th>\n",
       "      <td>0</td>\n",
       "      <td>0.00</td>\n",
       "    </tr>\n",
       "    <tr>\n",
       "      <th>customer_id</th>\n",
       "      <td>0</td>\n",
       "      <td>0.00</td>\n",
       "    </tr>\n",
       "  </tbody>\n",
       "</table>\n",
       "</div>"
      ],
      "text/plain": [
       "                                     missing value counts      %\n",
       "job_industry_category                                 656  16.40\n",
       "job_title                                             506  12.65\n",
       "default                                               302   7.55\n",
       "last_name                                             125   3.12\n",
       "tenure                                                 87   2.17\n",
       "DOB                                                    87   2.17\n",
       "owns_car                                                0   0.00\n",
       "deceased_indicator                                      0   0.00\n",
       "wealth_segment                                          0   0.00\n",
       "past_3_years_bike_related_purchases                     0   0.00\n",
       "gender                                                  0   0.00\n",
       "first_name                                              0   0.00\n",
       "customer_id                                             0   0.00"
      ]
     },
     "execution_count": 73,
     "metadata": {},
     "output_type": "execute_result"
    }
   ],
   "source": [
    "# checking missing value of each columns\n",
    "counts = CustomerDemographic.isna().sum().sort_values(ascending=False)\n",
    "\n",
    "# percentages of missing value\n",
    "percent = round(CustomerDemographic.isna().mean()*100, 2).sort_values(ascending=False)\n",
    "\n",
    "# create dataframe of missing value\n",
    "df_cusdemo = pd.concat([counts,percent], axis=1, keys=['missing value counts', '%'])\n",
    "df_cusdemo"
   ]
  },
  {
   "cell_type": "markdown",
   "metadata": {},
   "source": [
    "***Observation:***\n",
    "\n",
    "1. The dataset \"CustomerDemographic\" has 656 missing values (16.40%) in the column \"job_industry_category.\"\n",
    "2. The \"job_title\" column has 506 missing values (12.65%).\n",
    "3. There are 302 missing values (7.55%) in the column \"default.\"\n",
    "4. The \"last_name\" and \"tenure\" columns have 125 missing values (3.12% and 2.17%) respectively.\n",
    "\n",
    "Recommendation: \n",
    "\n",
    "The high percentage of missing values (34.25%) indicates that the \"CustomerDemographic\" dataset has significant data issues. It is recommended to address these missing values appropriately in order to improve data quality and reliability in subsequent analysis or modelling."
   ]
  },
  {
   "cell_type": "code",
   "execution_count": 74,
   "metadata": {},
   "outputs": [
    {
     "data": {
      "text/plain": [
       "False"
      ]
     },
     "execution_count": 74,
     "metadata": {},
     "output_type": "execute_result"
    }
   ],
   "source": [
    "# checking duplicated data\n",
    "CustomerDemographic.duplicated().any()"
   ]
  },
  {
   "cell_type": "markdown",
   "metadata": {},
   "source": [
    "*** Observation*** : no duplicate data"
   ]
  },
  {
   "cell_type": "markdown",
   "metadata": {},
   "source": [
    "**4. Statisctical Summary & Checking Distribution**"
   ]
  },
  {
   "cell_type": "code",
   "execution_count": 75,
   "metadata": {},
   "outputs": [
    {
     "data": {
      "text/html": [
       "<div>\n",
       "<style scoped>\n",
       "    .dataframe tbody tr th:only-of-type {\n",
       "        vertical-align: middle;\n",
       "    }\n",
       "\n",
       "    .dataframe tbody tr th {\n",
       "        vertical-align: top;\n",
       "    }\n",
       "\n",
       "    .dataframe thead th {\n",
       "        text-align: right;\n",
       "    }\n",
       "</style>\n",
       "<table border=\"1\" class=\"dataframe\">\n",
       "  <thead>\n",
       "    <tr style=\"text-align: right;\">\n",
       "      <th></th>\n",
       "      <th>count</th>\n",
       "      <th>mean</th>\n",
       "      <th>std</th>\n",
       "      <th>min</th>\n",
       "      <th>25%</th>\n",
       "      <th>50%</th>\n",
       "      <th>75%</th>\n",
       "      <th>max</th>\n",
       "    </tr>\n",
       "  </thead>\n",
       "  <tbody>\n",
       "    <tr>\n",
       "      <th>customer_id</th>\n",
       "      <td>4000.0</td>\n",
       "      <td>2000.500000</td>\n",
       "      <td>1154.844867</td>\n",
       "      <td>1.0</td>\n",
       "      <td>1000.75</td>\n",
       "      <td>2000.5</td>\n",
       "      <td>3000.25</td>\n",
       "      <td>4000.0</td>\n",
       "    </tr>\n",
       "    <tr>\n",
       "      <th>past_3_years_bike_related_purchases</th>\n",
       "      <td>4000.0</td>\n",
       "      <td>48.890000</td>\n",
       "      <td>28.715005</td>\n",
       "      <td>0.0</td>\n",
       "      <td>24.00</td>\n",
       "      <td>48.0</td>\n",
       "      <td>73.00</td>\n",
       "      <td>99.0</td>\n",
       "    </tr>\n",
       "    <tr>\n",
       "      <th>tenure</th>\n",
       "      <td>3913.0</td>\n",
       "      <td>10.657041</td>\n",
       "      <td>5.660146</td>\n",
       "      <td>1.0</td>\n",
       "      <td>6.00</td>\n",
       "      <td>11.0</td>\n",
       "      <td>15.00</td>\n",
       "      <td>22.0</td>\n",
       "    </tr>\n",
       "  </tbody>\n",
       "</table>\n",
       "</div>"
      ],
      "text/plain": [
       "                                      count         mean          std  min  \\\n",
       "customer_id                          4000.0  2000.500000  1154.844867  1.0   \n",
       "past_3_years_bike_related_purchases  4000.0    48.890000    28.715005  0.0   \n",
       "tenure                               3913.0    10.657041     5.660146  1.0   \n",
       "\n",
       "                                         25%     50%      75%     max  \n",
       "customer_id                          1000.75  2000.5  3000.25  4000.0  \n",
       "past_3_years_bike_related_purchases    24.00    48.0    73.00    99.0  \n",
       "tenure                                  6.00    11.0    15.00    22.0  "
      ]
     },
     "execution_count": 75,
     "metadata": {},
     "output_type": "execute_result"
    }
   ],
   "source": [
    "# numerical value\n",
    "CustomerDemographic[nums].describe().T"
   ]
  },
  {
   "cell_type": "code",
   "execution_count": 76,
   "metadata": {},
   "outputs": [
    {
     "data": {
      "text/html": [
       "<div>\n",
       "<style scoped>\n",
       "    .dataframe tbody tr th:only-of-type {\n",
       "        vertical-align: middle;\n",
       "    }\n",
       "\n",
       "    .dataframe tbody tr th {\n",
       "        vertical-align: top;\n",
       "    }\n",
       "\n",
       "    .dataframe thead th {\n",
       "        text-align: right;\n",
       "    }\n",
       "</style>\n",
       "<table border=\"1\" class=\"dataframe\">\n",
       "  <thead>\n",
       "    <tr style=\"text-align: right;\">\n",
       "      <th></th>\n",
       "      <th>count</th>\n",
       "      <th>unique</th>\n",
       "      <th>top</th>\n",
       "      <th>freq</th>\n",
       "    </tr>\n",
       "  </thead>\n",
       "  <tbody>\n",
       "    <tr>\n",
       "      <th>first_name</th>\n",
       "      <td>4000</td>\n",
       "      <td>3139</td>\n",
       "      <td>Timmie</td>\n",
       "      <td>5</td>\n",
       "    </tr>\n",
       "    <tr>\n",
       "      <th>last_name</th>\n",
       "      <td>3875</td>\n",
       "      <td>3725</td>\n",
       "      <td>Pristnor</td>\n",
       "      <td>3</td>\n",
       "    </tr>\n",
       "    <tr>\n",
       "      <th>gender</th>\n",
       "      <td>4000</td>\n",
       "      <td>6</td>\n",
       "      <td>Female</td>\n",
       "      <td>2037</td>\n",
       "    </tr>\n",
       "    <tr>\n",
       "      <th>job_title</th>\n",
       "      <td>3494</td>\n",
       "      <td>195</td>\n",
       "      <td>Business Systems Development Analyst</td>\n",
       "      <td>45</td>\n",
       "    </tr>\n",
       "    <tr>\n",
       "      <th>job_industry_category</th>\n",
       "      <td>3344</td>\n",
       "      <td>9</td>\n",
       "      <td>Manufacturing</td>\n",
       "      <td>799</td>\n",
       "    </tr>\n",
       "    <tr>\n",
       "      <th>wealth_segment</th>\n",
       "      <td>4000</td>\n",
       "      <td>3</td>\n",
       "      <td>Mass Customer</td>\n",
       "      <td>2000</td>\n",
       "    </tr>\n",
       "    <tr>\n",
       "      <th>deceased_indicator</th>\n",
       "      <td>4000</td>\n",
       "      <td>2</td>\n",
       "      <td>N</td>\n",
       "      <td>3998</td>\n",
       "    </tr>\n",
       "    <tr>\n",
       "      <th>default</th>\n",
       "      <td>3698</td>\n",
       "      <td>90</td>\n",
       "      <td>100</td>\n",
       "      <td>113</td>\n",
       "    </tr>\n",
       "    <tr>\n",
       "      <th>owns_car</th>\n",
       "      <td>4000</td>\n",
       "      <td>2</td>\n",
       "      <td>Yes</td>\n",
       "      <td>2024</td>\n",
       "    </tr>\n",
       "  </tbody>\n",
       "</table>\n",
       "</div>"
      ],
      "text/plain": [
       "                      count unique                                   top  freq\n",
       "first_name             4000   3139                                Timmie     5\n",
       "last_name              3875   3725                              Pristnor     3\n",
       "gender                 4000      6                                Female  2037\n",
       "job_title              3494    195  Business Systems Development Analyst    45\n",
       "job_industry_category  3344      9                         Manufacturing   799\n",
       "wealth_segment         4000      3                         Mass Customer  2000\n",
       "deceased_indicator     4000      2                                     N  3998\n",
       "default                3698     90                                   100   113\n",
       "owns_car               4000      2                                   Yes  2024"
      ]
     },
     "execution_count": 76,
     "metadata": {},
     "output_type": "execute_result"
    }
   ],
   "source": [
    "CustomerDemographic[cats].describe().T"
   ]
  },
  {
   "cell_type": "code",
   "execution_count": 80,
   "metadata": {},
   "outputs": [
    {
     "data": {
      "image/png": "[encoded data removed]",
      "text/plain": [
       "<Figure size 576x144 with 3 Axes>"
      ]
     },
     "metadata": {
      "needs_background": "light"
     },
     "output_type": "display_data"
    }
   ],
   "source": [
    "# distribution numerical data\n",
    "plt.figure(figsize=(8, 2))\n",
    "for i in range(0, len(nums)):\n",
    "    plt.subplot(1, len(nums), i+1)\n",
    "    sns.distplot(CustomerDemographic[nums[i]], color='red')\n",
    "    plt.tight_layout()"
   ]
  },
  {
   "cell_type": "code",
   "execution_count": 81,
   "metadata": {},
   "outputs": [
    {
     "data": {
      "image/png": "[encoded data removed]",
      "text/plain": [
       "<Figure size 432x144 with 3 Axes>"
      ]
     },
     "metadata": {
      "needs_background": "light"
     },
     "output_type": "display_data"
    }
   ],
   "source": [
    "# distribution numerical data and check outlier\n",
    "plt.figure(figsize=(6, 2))\n",
    "for i in range(0, len(nums)):\n",
    "    plt.subplot(1, len(nums), i+1)\n",
    "    sns.boxplot(y=CustomerDemographic[nums[i]], color='red', orient='v')\n",
    "    plt.tight_layout()"
   ]
  },
  {
   "cell_type": "code",
   "execution_count": 82,
   "metadata": {},
   "outputs": [
    {
     "data": {
      "image/png": "[encoded data removed]",
      "text/plain": [
       "<Figure size 1008x1008 with 6 Axes>"
      ]
     },
     "metadata": {
      "needs_background": "light"
     },
     "output_type": "display_data"
    }
   ],
   "source": [
    "cats = ['gender', 'job_title', 'job_industry_category', 'wealth_segment', 'deceased_indicator', 'owns_car']\n",
    "plt.figure(figsize=(14, 14))\n",
    "for i in range(0, len(cats)):\n",
    "    plt.subplot(4, 2, i+1)\n",
    "    sns.countplot(x=CustomerDemographic[cats[i]], color='red', orient='v')\n",
    "    plt.tight_layout()"
   ]
  },
  {
   "cell_type": "markdown",
   "metadata": {},
   "source": [
    "**Observation:**\n",
    "\n",
    "1. The data shows a normal distribution, indicating that most values in the dataset are evenly distributed around the mean or average. This is a common pattern in natural phenomena and makes data analysis more straightforward due to its mathematical properties.\n",
    "\n",
    "2. There are no outliers or unusual records present in the dataset. Outliers are values that significantly deviate from the rest of the data points. The absence of outliers suggests that the data is consistent and reliable for analysis."
   ]
  },
  {
   "cell_type": "markdown",
   "metadata": {},
   "source": [
    "***5. Data Cleaning: Handling Missing Values***"
   ]
  },
  {
   "cell_type": "code",
   "execution_count": 87,
   "metadata": {},
   "outputs": [
    {
     "data": {
      "text/plain": [
       "Index(['customer_id', 'first_name', 'last_name', 'gender',\n",
       "       'past_3_years_bike_related_purchases', 'DOB', 'job_title',\n",
       "       'job_industry_category', 'wealth_segment', 'deceased_indicator',\n",
       "       'owns_car', 'tenure'],\n",
       "      dtype='object')"
      ]
     },
     "execution_count": 87,
     "metadata": {},
     "output_type": "execute_result"
    }
   ],
   "source": [
    "# crete copy of dataset\n",
    "cusdm = CustomerDemographic.copy()\n",
    "# drop columns\n",
    "cusdm.drop(columns=['default'], inplace=True)\n",
    "cusdm.columns"
   ]
  },
  {
   "cell_type": "code",
   "execution_count": 88,
   "metadata": {},
   "outputs": [
    {
     "data": {
      "text/plain": [
       "customer_id                              0\n",
       "first_name                               0\n",
       "last_name                              125\n",
       "gender                                   0\n",
       "past_3_years_bike_related_purchases      0\n",
       "DOB                                     87\n",
       "job_title                              506\n",
       "job_industry_category                  656\n",
       "wealth_segment                           0\n",
       "deceased_indicator                       0\n",
       "owns_car                                 0\n",
       "tenure                                  87\n",
       "dtype: int64"
      ]
     },
     "execution_count": 88,
     "metadata": {},
     "output_type": "execute_result"
    }
   ],
   "source": [
    "cusdm.isna().sum()"
   ]
  },
  {
   "cell_type": "code",
   "execution_count": 89,
   "metadata": {},
   "outputs": [],
   "source": [
    " # filling nan in last name with first name\n",
    "cusdm['last_name'].fillna(cusdm['first_name'], inplace=True)"
   ]
  },
  {
   "cell_type": "code",
   "execution_count": 90,
   "metadata": {},
   "outputs": [
    {
     "data": {
      "text/plain": [
       "Business Systems Development Analyst    45\n",
       "Tax Accountant                          44\n",
       "Social Worker                           44\n",
       "Internal Auditor                        42\n",
       "Recruiting Manager                      41\n",
       "                                        ..\n",
       "Staff Accountant I                       4\n",
       "Research Assistant III                   3\n",
       "Health Coach I                           3\n",
       "Health Coach III                         3\n",
       "Developer I                              1\n",
       "Name: job_title, Length: 195, dtype: int64"
      ]
     },
     "execution_count": 90,
     "metadata": {},
     "output_type": "execute_result"
    }
   ],
   "source": [
    "cusdm['job_title'].value_counts()"
   ]
  },
  {
   "cell_type": "code",
   "execution_count": 91,
   "metadata": {},
   "outputs": [
    {
     "data": {
      "text/plain": [
       "Manufacturing         799\n",
       "Financial Services    774\n",
       "Health                602\n",
       "Retail                358\n",
       "Property              267\n",
       "IT                    223\n",
       "Entertainment         136\n",
       "Argiculture           113\n",
       "Telecommunications     72\n",
       "Name: job_industry_category, dtype: int64"
      ]
     },
     "execution_count": 91,
     "metadata": {},
     "output_type": "execute_result"
    }
   ],
   "source": [
    "cusdm['job_industry_category'].value_counts()"
   ]
  },
  {
   "cell_type": "code",
   "execution_count": 92,
   "metadata": {},
   "outputs": [],
   "source": [
    "# filling nan with previous value\n",
    "fill = ['job_title','job_industry_category']\n",
    "\n",
    "for x in fill:\n",
    "    cusdm[x].fillna(method='pad',inplace=True)"
   ]
  },
  {
   "cell_type": "code",
   "execution_count": 93,
   "metadata": {},
   "outputs": [],
   "source": [
    "cusdm['DOB'].fillna(method='pad',inplace=True)"
   ]
  },
  {
   "cell_type": "code",
   "execution_count": 94,
   "metadata": {},
   "outputs": [],
   "source": [
    "cusdm['tenure'].fillna(method='pad',inplace=True)"
   ]
  },
  {
   "cell_type": "code",
   "execution_count": 95,
   "metadata": {},
   "outputs": [
    {
     "data": {
      "text/plain": [
       "customer_id                            0\n",
       "first_name                             0\n",
       "last_name                              0\n",
       "gender                                 0\n",
       "past_3_years_bike_related_purchases    0\n",
       "DOB                                    0\n",
       "job_title                              0\n",
       "job_industry_category                  0\n",
       "wealth_segment                         0\n",
       "deceased_indicator                     0\n",
       "owns_car                               0\n",
       "tenure                                 0\n",
       "dtype: int64"
      ]
     },
     "execution_count": 95,
     "metadata": {},
     "output_type": "execute_result"
    }
   ],
   "source": [
    "cusdm.isna().sum()"
   ]
  },
  {
   "cell_type": "markdown",
   "metadata": {},
   "source": [
    "The dataset has been cleared of missing values"
   ]
  },
  {
   "cell_type": "code",
   "execution_count": 96,
   "metadata": {},
   "outputs": [
    {
     "data": {
      "text/plain": [
       "Female    2037\n",
       "Male      1872\n",
       "U           88\n",
       "F            1\n",
       "M            1\n",
       "Femal        1\n",
       "Name: gender, dtype: int64"
      ]
     },
     "execution_count": 96,
     "metadata": {},
     "output_type": "execute_result"
    }
   ],
   "source": [
    "# checking value counts gender\n",
    "cusdm['gender'].value_counts()"
   ]
  },
  {
   "cell_type": "code",
   "execution_count": 97,
   "metadata": {},
   "outputs": [],
   "source": [
    "# fixing inconsitency value\n",
    "cusdm.replace(to_replace= ['F', 'Femal', 'U'], value = 'Female', inplace=True)\n",
    "cusdm.replace(to_replace= ['M'], value = 'Male', inplace=True)"
   ]
  },
  {
   "cell_type": "code",
   "execution_count": 98,
   "metadata": {},
   "outputs": [
    {
     "data": {
      "text/plain": [
       "Female    2127\n",
       "Male      1873\n",
       "Name: gender, dtype: int64"
      ]
     },
     "execution_count": 98,
     "metadata": {},
     "output_type": "execute_result"
    }
   ],
   "source": [
    "# checking value counts gender\n",
    "cusdm['gender'].value_counts()"
   ]
  },
  {
   "cell_type": "code",
   "execution_count": 99,
   "metadata": {},
   "outputs": [],
   "source": [
    "cusdm['tenure'] = cusdm['tenure'].astype('int64')"
   ]
  },
  {
   "cell_type": "code",
   "execution_count": 110,
   "metadata": {},
   "outputs": [
    {
     "data": {
      "text/html": [
       "<div>\n",
       "<style scoped>\n",
       "    .dataframe tbody tr th:only-of-type {\n",
       "        vertical-align: middle;\n",
       "    }\n",
       "\n",
       "    .dataframe tbody tr th {\n",
       "        vertical-align: top;\n",
       "    }\n",
       "\n",
       "    .dataframe thead th {\n",
       "        text-align: right;\n",
       "    }\n",
       "</style>\n",
       "<table border=\"1\" class=\"dataframe\">\n",
       "  <thead>\n",
       "    <tr style=\"text-align: right;\">\n",
       "      <th></th>\n",
       "      <th>customer_id</th>\n",
       "      <th>first_name</th>\n",
       "      <th>last_name</th>\n",
       "      <th>gender</th>\n",
       "      <th>past_3_years_bike_related_purchases</th>\n",
       "      <th>DOB</th>\n",
       "      <th>job_title</th>\n",
       "      <th>job_industry_category</th>\n",
       "      <th>wealth_segment</th>\n",
       "      <th>deceased_indicator</th>\n",
       "      <th>owns_car</th>\n",
       "      <th>tenure</th>\n",
       "      <th>age_c</th>\n",
       "    </tr>\n",
       "  </thead>\n",
       "  <tbody>\n",
       "    <tr>\n",
       "      <th>1786</th>\n",
       "      <td>1787</td>\n",
       "      <td>Tull</td>\n",
       "      <td>Godehard.sf</td>\n",
       "      <td>Male</td>\n",
       "      <td>2</td>\n",
       "      <td>1976-11-21</td>\n",
       "      <td>Executive Secretary</td>\n",
       "      <td>Retail</td>\n",
       "      <td>High Net Worth</td>\n",
       "      <td>N</td>\n",
       "      <td>Yes</td>\n",
       "      <td>13</td>\n",
       "      <td>50</td>\n",
       "    </tr>\n",
       "    <tr>\n",
       "      <th>3466</th>\n",
       "      <td>3467</td>\n",
       "      <td>Killy</td>\n",
       "      <td>Spaducci</td>\n",
       "      <td>Male</td>\n",
       "      <td>31</td>\n",
       "      <td>1980-05-20</td>\n",
       "      <td>VP Quality Control</td>\n",
       "      <td>IT</td>\n",
       "      <td>Mass Customer</td>\n",
       "      <td>N</td>\n",
       "      <td>No</td>\n",
       "      <td>21</td>\n",
       "      <td>40</td>\n",
       "    </tr>\n",
       "    <tr>\n",
       "      <th>3504</th>\n",
       "      <td>3505</td>\n",
       "      <td>Dolly</td>\n",
       "      <td>Scallan</td>\n",
       "      <td>Female</td>\n",
       "      <td>41</td>\n",
       "      <td>1974-08-06</td>\n",
       "      <td>Business Systems Development Analyst</td>\n",
       "      <td>Retail</td>\n",
       "      <td>Mass Customer</td>\n",
       "      <td>N</td>\n",
       "      <td>No</td>\n",
       "      <td>14</td>\n",
       "      <td>50</td>\n",
       "    </tr>\n",
       "    <tr>\n",
       "      <th>1532</th>\n",
       "      <td>1533</td>\n",
       "      <td>Sonia</td>\n",
       "      <td>Rous</td>\n",
       "      <td>Female</td>\n",
       "      <td>59</td>\n",
       "      <td>1977-07-02</td>\n",
       "      <td>Social Worker</td>\n",
       "      <td>Health</td>\n",
       "      <td>Affluent Customer</td>\n",
       "      <td>N</td>\n",
       "      <td>Yes</td>\n",
       "      <td>8</td>\n",
       "      <td>50</td>\n",
       "    </tr>\n",
       "    <tr>\n",
       "      <th>1814</th>\n",
       "      <td>1815</td>\n",
       "      <td>Bab</td>\n",
       "      <td>Bingall</td>\n",
       "      <td>Female</td>\n",
       "      <td>23</td>\n",
       "      <td>1954-03-26</td>\n",
       "      <td>Software Test Engineer I</td>\n",
       "      <td>Argiculture</td>\n",
       "      <td>Mass Customer</td>\n",
       "      <td>N</td>\n",
       "      <td>Yes</td>\n",
       "      <td>19</td>\n",
       "      <td>70</td>\n",
       "    </tr>\n",
       "    <tr>\n",
       "      <th>1132</th>\n",
       "      <td>1133</td>\n",
       "      <td>Forrester</td>\n",
       "      <td>McFetridge</td>\n",
       "      <td>Male</td>\n",
       "      <td>88</td>\n",
       "      <td>1968-01-26</td>\n",
       "      <td>Actuary</td>\n",
       "      <td>Manufacturing</td>\n",
       "      <td>Affluent Customer</td>\n",
       "      <td>N</td>\n",
       "      <td>No</td>\n",
       "      <td>6</td>\n",
       "      <td>60</td>\n",
       "    </tr>\n",
       "    <tr>\n",
       "      <th>3501</th>\n",
       "      <td>3502</td>\n",
       "      <td>Wilfrid</td>\n",
       "      <td>Cleaves</td>\n",
       "      <td>Male</td>\n",
       "      <td>5</td>\n",
       "      <td>1997-10-16</td>\n",
       "      <td>Senior Sales Associate</td>\n",
       "      <td>Retail</td>\n",
       "      <td>High Net Worth</td>\n",
       "      <td>N</td>\n",
       "      <td>Yes</td>\n",
       "      <td>3</td>\n",
       "      <td>20</td>\n",
       "    </tr>\n",
       "    <tr>\n",
       "      <th>3991</th>\n",
       "      <td>3992</td>\n",
       "      <td>Germain</td>\n",
       "      <td>Tireman</td>\n",
       "      <td>Male</td>\n",
       "      <td>99</td>\n",
       "      <td>1980-04-02</td>\n",
       "      <td>Database Administrator IV</td>\n",
       "      <td>Manufacturing</td>\n",
       "      <td>Affluent Customer</td>\n",
       "      <td>N</td>\n",
       "      <td>Yes</td>\n",
       "      <td>18</td>\n",
       "      <td>40</td>\n",
       "    </tr>\n",
       "    <tr>\n",
       "      <th>420</th>\n",
       "      <td>421</td>\n",
       "      <td>Tish</td>\n",
       "      <td>Netti</td>\n",
       "      <td>Female</td>\n",
       "      <td>26</td>\n",
       "      <td>1999-03-19</td>\n",
       "      <td>Sales Representative</td>\n",
       "      <td>Retail</td>\n",
       "      <td>Mass Customer</td>\n",
       "      <td>N</td>\n",
       "      <td>Yes</td>\n",
       "      <td>2</td>\n",
       "      <td>20</td>\n",
       "    </tr>\n",
       "    <tr>\n",
       "      <th>1002</th>\n",
       "      <td>1003</td>\n",
       "      <td>Mariann</td>\n",
       "      <td>O'Geaney</td>\n",
       "      <td>Female</td>\n",
       "      <td>35</td>\n",
       "      <td>1968-02-03</td>\n",
       "      <td>Paralegal</td>\n",
       "      <td>Financial Services</td>\n",
       "      <td>High Net Worth</td>\n",
       "      <td>N</td>\n",
       "      <td>No</td>\n",
       "      <td>18</td>\n",
       "      <td>60</td>\n",
       "    </tr>\n",
       "  </tbody>\n",
       "</table>\n",
       "</div>"
      ],
      "text/plain": [
       "      customer_id first_name    last_name  gender  \\\n",
       "1786         1787       Tull  Godehard.sf    Male   \n",
       "3466         3467      Killy     Spaducci    Male   \n",
       "3504         3505      Dolly      Scallan  Female   \n",
       "1532         1533      Sonia         Rous  Female   \n",
       "1814         1815        Bab      Bingall  Female   \n",
       "1132         1133  Forrester   McFetridge    Male   \n",
       "3501         3502    Wilfrid      Cleaves    Male   \n",
       "3991         3992    Germain      Tireman    Male   \n",
       "420           421       Tish        Netti  Female   \n",
       "1002         1003    Mariann     O'Geaney  Female   \n",
       "\n",
       "      past_3_years_bike_related_purchases        DOB  \\\n",
       "1786                                    2 1976-11-21   \n",
       "3466                                   31 1980-05-20   \n",
       "3504                                   41 1974-08-06   \n",
       "1532                                   59 1977-07-02   \n",
       "1814                                   23 1954-03-26   \n",
       "1132                                   88 1968-01-26   \n",
       "3501                                    5 1997-10-16   \n",
       "3991                                   99 1980-04-02   \n",
       "420                                    26 1999-03-19   \n",
       "1002                                   35 1968-02-03   \n",
       "\n",
       "                                 job_title job_industry_category  \\\n",
       "1786                   Executive Secretary                Retail   \n",
       "3466                    VP Quality Control                    IT   \n",
       "3504  Business Systems Development Analyst                Retail   \n",
       "1532                         Social Worker                Health   \n",
       "1814              Software Test Engineer I           Argiculture   \n",
       "1132                               Actuary         Manufacturing   \n",
       "3501                Senior Sales Associate                Retail   \n",
       "3991             Database Administrator IV         Manufacturing   \n",
       "420                   Sales Representative                Retail   \n",
       "1002                             Paralegal    Financial Services   \n",
       "\n",
       "         wealth_segment deceased_indicator owns_car  tenure  age_c  \n",
       "1786     High Net Worth                  N      Yes      13     50  \n",
       "3466      Mass Customer                  N       No      21     40  \n",
       "3504      Mass Customer                  N       No      14     50  \n",
       "1532  Affluent Customer                  N      Yes       8     50  \n",
       "1814      Mass Customer                  N      Yes      19     70  \n",
       "1132  Affluent Customer                  N       No       6     60  \n",
       "3501     High Net Worth                  N      Yes       3     20  \n",
       "3991  Affluent Customer                  N      Yes      18     40  \n",
       "420       Mass Customer                  N      Yes       2     20  \n",
       "1002     High Net Worth                  N       No      18     60  "
      ]
     },
     "execution_count": 110,
     "metadata": {},
     "output_type": "execute_result"
    }
   ],
   "source": [
    "# sampling\n",
    "cusdm.sample(10)"
   ]
  },
  {
   "cell_type": "code",
   "execution_count": 101,
   "metadata": {},
   "outputs": [
    {
     "name": "stdout",
     "output_type": "stream",
     "text": [
      "<class 'pandas.core.frame.DataFrame'>\n",
      "RangeIndex: 4000 entries, 0 to 3999\n",
      "Data columns (total 12 columns):\n",
      " #   Column                               Non-Null Count  Dtype         \n",
      "---  ------                               --------------  -----         \n",
      " 0   customer_id                          4000 non-null   int64         \n",
      " 1   first_name                           4000 non-null   object        \n",
      " 2   last_name                            4000 non-null   object        \n",
      " 3   gender                               4000 non-null   object        \n",
      " 4   past_3_years_bike_related_purchases  4000 non-null   int64         \n",
      " 5   DOB                                  4000 non-null   datetime64[ns]\n",
      " 6   job_title                            4000 non-null   object        \n",
      " 7   job_industry_category                4000 non-null   object        \n",
      " 8   wealth_segment                       4000 non-null   object        \n",
      " 9   deceased_indicator                   4000 non-null   object        \n",
      " 10  owns_car                             4000 non-null   object        \n",
      " 11  tenure                               4000 non-null   int64         \n",
      "dtypes: datetime64[ns](1), int64(3), object(8)\n",
      "memory usage: 375.1+ KB\n"
     ]
    }
   ],
   "source": [
    "cusdm.info()"
   ]
  },
  {
   "cell_type": "code",
   "execution_count": 106,
   "metadata": {},
   "outputs": [],
   "source": [
    "# fixing datatype\n",
    "cusdm['DOB'] = cusdm['DOB'].astype('datetime64[ns]')"
   ]
  },
  {
   "cell_type": "code",
   "execution_count": 111,
   "metadata": {},
   "outputs": [],
   "source": [
    "# create function tu calculate age\n",
    "from datetime import date\n",
    "def calculate_age(birthdate):\n",
    "    today = date.today()\n",
    "    age = today.year-birthdate.year-((today.month, today.day) < (birthdate.month, birthdate.day))\n",
    "    return age\n",
    "\n",
    "# fit into dataframe\n",
    "cusdm['age']=cusdm['DOB'].apply(calculate_age)\n",
    "cusdm['age_c'] = (round(cusdm['age']/ 10) * 10).astype(int)\n",
    "cusdm.drop(columns='age', inplace=True)"
   ]
  },
  {
   "cell_type": "code",
   "execution_count": 112,
   "metadata": {},
   "outputs": [
    {
     "data": {
      "text/html": [
       "<div>\n",
       "<style scoped>\n",
       "    .dataframe tbody tr th:only-of-type {\n",
       "        vertical-align: middle;\n",
       "    }\n",
       "\n",
       "    .dataframe tbody tr th {\n",
       "        vertical-align: top;\n",
       "    }\n",
       "\n",
       "    .dataframe thead th {\n",
       "        text-align: right;\n",
       "    }\n",
       "</style>\n",
       "<table border=\"1\" class=\"dataframe\">\n",
       "  <thead>\n",
       "    <tr style=\"text-align: right;\">\n",
       "      <th></th>\n",
       "      <th>customer_id</th>\n",
       "      <th>first_name</th>\n",
       "      <th>last_name</th>\n",
       "      <th>gender</th>\n",
       "      <th>past_3_years_bike_related_purchases</th>\n",
       "      <th>DOB</th>\n",
       "      <th>job_title</th>\n",
       "      <th>job_industry_category</th>\n",
       "      <th>wealth_segment</th>\n",
       "      <th>deceased_indicator</th>\n",
       "      <th>owns_car</th>\n",
       "      <th>tenure</th>\n",
       "      <th>age_c</th>\n",
       "    </tr>\n",
       "  </thead>\n",
       "  <tbody>\n",
       "    <tr>\n",
       "      <th>1427</th>\n",
       "      <td>1428</td>\n",
       "      <td>Morissa</td>\n",
       "      <td>Ozintsev</td>\n",
       "      <td>Female</td>\n",
       "      <td>93</td>\n",
       "      <td>1998-11-15</td>\n",
       "      <td>Sales Representative</td>\n",
       "      <td>Retail</td>\n",
       "      <td>High Net Worth</td>\n",
       "      <td>N</td>\n",
       "      <td>No</td>\n",
       "      <td>1</td>\n",
       "      <td>20</td>\n",
       "    </tr>\n",
       "    <tr>\n",
       "      <th>2148</th>\n",
       "      <td>2149</td>\n",
       "      <td>Lana</td>\n",
       "      <td>Druce</td>\n",
       "      <td>Female</td>\n",
       "      <td>26</td>\n",
       "      <td>1978-05-19</td>\n",
       "      <td>Professor</td>\n",
       "      <td>Manufacturing</td>\n",
       "      <td>High Net Worth</td>\n",
       "      <td>N</td>\n",
       "      <td>No</td>\n",
       "      <td>6</td>\n",
       "      <td>40</td>\n",
       "    </tr>\n",
       "    <tr>\n",
       "      <th>2235</th>\n",
       "      <td>2236</td>\n",
       "      <td>Arin</td>\n",
       "      <td>Crickmoor</td>\n",
       "      <td>Male</td>\n",
       "      <td>0</td>\n",
       "      <td>1968-04-16</td>\n",
       "      <td>Data Coordiator</td>\n",
       "      <td>Manufacturing</td>\n",
       "      <td>Affluent Customer</td>\n",
       "      <td>N</td>\n",
       "      <td>Yes</td>\n",
       "      <td>13</td>\n",
       "      <td>60</td>\n",
       "    </tr>\n",
       "    <tr>\n",
       "      <th>2880</th>\n",
       "      <td>2881</td>\n",
       "      <td>Ezra</td>\n",
       "      <td>Steffan</td>\n",
       "      <td>Male</td>\n",
       "      <td>71</td>\n",
       "      <td>1962-09-27</td>\n",
       "      <td>Associate Professor</td>\n",
       "      <td>Health</td>\n",
       "      <td>Affluent Customer</td>\n",
       "      <td>N</td>\n",
       "      <td>Yes</td>\n",
       "      <td>11</td>\n",
       "      <td>60</td>\n",
       "    </tr>\n",
       "    <tr>\n",
       "      <th>1719</th>\n",
       "      <td>1720</td>\n",
       "      <td>Matilda</td>\n",
       "      <td>Milton</td>\n",
       "      <td>Female</td>\n",
       "      <td>96</td>\n",
       "      <td>1986-10-06</td>\n",
       "      <td>Staff Accountant II</td>\n",
       "      <td>Financial Services</td>\n",
       "      <td>Mass Customer</td>\n",
       "      <td>N</td>\n",
       "      <td>Yes</td>\n",
       "      <td>13</td>\n",
       "      <td>40</td>\n",
       "    </tr>\n",
       "    <tr>\n",
       "      <th>1674</th>\n",
       "      <td>1675</td>\n",
       "      <td>Luke</td>\n",
       "      <td>Wombwell</td>\n",
       "      <td>Male</td>\n",
       "      <td>76</td>\n",
       "      <td>1955-08-14</td>\n",
       "      <td>Engineer I</td>\n",
       "      <td>Manufacturing</td>\n",
       "      <td>Affluent Customer</td>\n",
       "      <td>N</td>\n",
       "      <td>Yes</td>\n",
       "      <td>14</td>\n",
       "      <td>70</td>\n",
       "    </tr>\n",
       "    <tr>\n",
       "      <th>732</th>\n",
       "      <td>733</td>\n",
       "      <td>Ham</td>\n",
       "      <td>Mayoh</td>\n",
       "      <td>Male</td>\n",
       "      <td>25</td>\n",
       "      <td>1973-11-30</td>\n",
       "      <td>Actuary</td>\n",
       "      <td>Manufacturing</td>\n",
       "      <td>Mass Customer</td>\n",
       "      <td>N</td>\n",
       "      <td>No</td>\n",
       "      <td>13</td>\n",
       "      <td>50</td>\n",
       "    </tr>\n",
       "    <tr>\n",
       "      <th>723</th>\n",
       "      <td>724</td>\n",
       "      <td>Heinrik</td>\n",
       "      <td>Norcock</td>\n",
       "      <td>Male</td>\n",
       "      <td>7</td>\n",
       "      <td>1975-08-05</td>\n",
       "      <td>Analog Circuit Design manager</td>\n",
       "      <td>Financial Services</td>\n",
       "      <td>Mass Customer</td>\n",
       "      <td>N</td>\n",
       "      <td>Yes</td>\n",
       "      <td>4</td>\n",
       "      <td>50</td>\n",
       "    </tr>\n",
       "    <tr>\n",
       "      <th>2033</th>\n",
       "      <td>2034</td>\n",
       "      <td>June</td>\n",
       "      <td>Haslam</td>\n",
       "      <td>Female</td>\n",
       "      <td>87</td>\n",
       "      <td>1974-01-10</td>\n",
       "      <td>Speech Pathologist</td>\n",
       "      <td>Manufacturing</td>\n",
       "      <td>Mass Customer</td>\n",
       "      <td>N</td>\n",
       "      <td>No</td>\n",
       "      <td>8</td>\n",
       "      <td>50</td>\n",
       "    </tr>\n",
       "    <tr>\n",
       "      <th>2854</th>\n",
       "      <td>2855</td>\n",
       "      <td>Kim</td>\n",
       "      <td>Tineman</td>\n",
       "      <td>Female</td>\n",
       "      <td>81</td>\n",
       "      <td>1975-09-13</td>\n",
       "      <td>Nurse Practicioner</td>\n",
       "      <td>Manufacturing</td>\n",
       "      <td>Mass Customer</td>\n",
       "      <td>N</td>\n",
       "      <td>Yes</td>\n",
       "      <td>17</td>\n",
       "      <td>50</td>\n",
       "    </tr>\n",
       "  </tbody>\n",
       "</table>\n",
       "</div>"
      ],
      "text/plain": [
       "      customer_id first_name  last_name  gender  \\\n",
       "1427         1428    Morissa   Ozintsev  Female   \n",
       "2148         2149       Lana      Druce  Female   \n",
       "2235         2236       Arin  Crickmoor    Male   \n",
       "2880         2881       Ezra    Steffan    Male   \n",
       "1719         1720    Matilda     Milton  Female   \n",
       "1674         1675       Luke   Wombwell    Male   \n",
       "732           733        Ham      Mayoh    Male   \n",
       "723           724    Heinrik    Norcock    Male   \n",
       "2033         2034       June     Haslam  Female   \n",
       "2854         2855        Kim    Tineman  Female   \n",
       "\n",
       "      past_3_years_bike_related_purchases        DOB  \\\n",
       "1427                                   93 1998-11-15   \n",
       "2148                                   26 1978-05-19   \n",
       "2235                                    0 1968-04-16   \n",
       "2880                                   71 1962-09-27   \n",
       "1719                                   96 1986-10-06   \n",
       "1674                                   76 1955-08-14   \n",
       "732                                    25 1973-11-30   \n",
       "723                                     7 1975-08-05   \n",
       "2033                                   87 1974-01-10   \n",
       "2854                                   81 1975-09-13   \n",
       "\n",
       "                          job_title job_industry_category     wealth_segment  \\\n",
       "1427           Sales Representative                Retail     High Net Worth   \n",
       "2148                      Professor         Manufacturing     High Net Worth   \n",
       "2235                Data Coordiator         Manufacturing  Affluent Customer   \n",
       "2880            Associate Professor                Health  Affluent Customer   \n",
       "1719            Staff Accountant II    Financial Services      Mass Customer   \n",
       "1674                     Engineer I         Manufacturing  Affluent Customer   \n",
       "732                         Actuary         Manufacturing      Mass Customer   \n",
       "723   Analog Circuit Design manager    Financial Services      Mass Customer   \n",
       "2033             Speech Pathologist         Manufacturing      Mass Customer   \n",
       "2854             Nurse Practicioner         Manufacturing      Mass Customer   \n",
       "\n",
       "     deceased_indicator owns_car  tenure  age_c  \n",
       "1427                  N       No       1     20  \n",
       "2148                  N       No       6     40  \n",
       "2235                  N      Yes      13     60  \n",
       "2880                  N      Yes      11     60  \n",
       "1719                  N      Yes      13     40  \n",
       "1674                  N      Yes      14     70  \n",
       "732                   N       No      13     50  \n",
       "723                   N      Yes       4     50  \n",
       "2033                  N       No       8     50  \n",
       "2854                  N      Yes      17     50  "
      ]
     },
     "execution_count": 112,
     "metadata": {},
     "output_type": "execute_result"
    }
   ],
   "source": [
    "# sampling\n",
    "cusdm.sample(10)"
   ]
  },
  {
   "cell_type": "code",
   "execution_count": 140,
   "metadata": {},
   "outputs": [],
   "source": [
    "cusdm.to_csv('cusdemo_CLEAN.csv', index=False)"
   ]
  },
  {
   "cell_type": "markdown",
   "metadata": {},
   "source": [
    "# C. Customer Address"
   ]
  },
  {
   "cell_type": "markdown",
   "metadata": {},
   "source": [
    "### 1. EDA of Customer Address"
   ]
  },
  {
   "cell_type": "code",
   "execution_count": 115,
   "metadata": {},
   "outputs": [
    {
     "data": {
      "text/html": [
       "<div>\n",
       "<style scoped>\n",
       "    .dataframe tbody tr th:only-of-type {\n",
       "        vertical-align: middle;\n",
       "    }\n",
       "\n",
       "    .dataframe tbody tr th {\n",
       "        vertical-align: top;\n",
       "    }\n",
       "\n",
       "    .dataframe thead th {\n",
       "        text-align: right;\n",
       "    }\n",
       "</style>\n",
       "<table border=\"1\" class=\"dataframe\">\n",
       "  <thead>\n",
       "    <tr style=\"text-align: right;\">\n",
       "      <th></th>\n",
       "      <th>customer_id</th>\n",
       "      <th>address</th>\n",
       "      <th>postcode</th>\n",
       "      <th>state</th>\n",
       "      <th>country</th>\n",
       "      <th>property_valuation</th>\n",
       "    </tr>\n",
       "  </thead>\n",
       "  <tbody>\n",
       "    <tr>\n",
       "      <th>0</th>\n",
       "      <td>1</td>\n",
       "      <td>060 Morning Avenue</td>\n",
       "      <td>2016</td>\n",
       "      <td>New South Wales</td>\n",
       "      <td>Australia</td>\n",
       "      <td>10</td>\n",
       "    </tr>\n",
       "    <tr>\n",
       "      <th>1</th>\n",
       "      <td>2</td>\n",
       "      <td>6 Meadow Vale Court</td>\n",
       "      <td>2153</td>\n",
       "      <td>New South Wales</td>\n",
       "      <td>Australia</td>\n",
       "      <td>10</td>\n",
       "    </tr>\n",
       "    <tr>\n",
       "      <th>2</th>\n",
       "      <td>4</td>\n",
       "      <td>0 Holy Cross Court</td>\n",
       "      <td>4211</td>\n",
       "      <td>QLD</td>\n",
       "      <td>Australia</td>\n",
       "      <td>9</td>\n",
       "    </tr>\n",
       "    <tr>\n",
       "      <th>3</th>\n",
       "      <td>5</td>\n",
       "      <td>17979 Del Mar Point</td>\n",
       "      <td>2448</td>\n",
       "      <td>New South Wales</td>\n",
       "      <td>Australia</td>\n",
       "      <td>4</td>\n",
       "    </tr>\n",
       "    <tr>\n",
       "      <th>4</th>\n",
       "      <td>6</td>\n",
       "      <td>9 Oakridge Court</td>\n",
       "      <td>3216</td>\n",
       "      <td>VIC</td>\n",
       "      <td>Australia</td>\n",
       "      <td>9</td>\n",
       "    </tr>\n",
       "  </tbody>\n",
       "</table>\n",
       "</div>"
      ],
      "text/plain": [
       "   customer_id              address  postcode            state    country  \\\n",
       "0            1   060 Morning Avenue      2016  New South Wales  Australia   \n",
       "1            2  6 Meadow Vale Court      2153  New South Wales  Australia   \n",
       "2            4   0 Holy Cross Court      4211              QLD  Australia   \n",
       "3            5  17979 Del Mar Point      2448  New South Wales  Australia   \n",
       "4            6     9 Oakridge Court      3216              VIC  Australia   \n",
       "\n",
       "   property_valuation  \n",
       "0                  10  \n",
       "1                  10  \n",
       "2                   9  \n",
       "3                   4  \n",
       "4                   9  "
      ]
     },
     "execution_count": 115,
     "metadata": {},
     "output_type": "execute_result"
    }
   ],
   "source": [
    "CustomerAddress.head(5)"
   ]
  },
  {
   "cell_type": "code",
   "execution_count": 116,
   "metadata": {},
   "outputs": [
    {
     "data": {
      "text/plain": [
       "(3999, 6)"
      ]
     },
     "execution_count": 116,
     "metadata": {},
     "output_type": "execute_result"
    }
   ],
   "source": [
    "CustomerAddress.shape"
   ]
  },
  {
   "cell_type": "code",
   "execution_count": 117,
   "metadata": {},
   "outputs": [
    {
     "name": "stdout",
     "output_type": "stream",
     "text": [
      "<class 'pandas.core.frame.DataFrame'>\n",
      "RangeIndex: 3999 entries, 0 to 3998\n",
      "Data columns (total 6 columns):\n",
      " #   Column              Non-Null Count  Dtype \n",
      "---  ------              --------------  ----- \n",
      " 0   customer_id         3999 non-null   int64 \n",
      " 1   address             3999 non-null   object\n",
      " 2   postcode            3999 non-null   int64 \n",
      " 3   state               3999 non-null   object\n",
      " 4   country             3999 non-null   object\n",
      " 5   property_valuation  3999 non-null   int64 \n",
      "dtypes: int64(3), object(3)\n",
      "memory usage: 187.6+ KB\n"
     ]
    }
   ],
   "source": [
    "CustomerAddress.info()"
   ]
  },
  {
   "cell_type": "code",
   "execution_count": 118,
   "metadata": {},
   "outputs": [
    {
     "name": "stdout",
     "output_type": "stream",
     "text": [
      "customer_id have 3999 unique values: int64\n",
      "customer_id values: [   1    2    4 ... 4001 4002 4003]\n",
      "\n",
      "address have 3996 unique values: object\n",
      "address values: ['060 Morning Avenue' '6 Meadow Vale Court' '0 Holy Cross Court' ...\n",
      " '87 Crescent Oaks Alley' '8194 Lien Street' '320 Acker Drive']\n",
      "\n",
      "postcode have 873 unique values: int64\n",
      "postcode values: [2016 2153 4211 2448 3216 2210 2650 2023 3044 4557 3799 2760 2428 3331\n",
      " 3058 2135 2233 2444 4413 4740 3218 4868 4116 2519 2756 2170 4005 4127\n",
      " 2535 4726 4805 2212 2207 3350 3931 4018 4670 2480 3212 2322 3198 2047\n",
      " 4503 2145 4350 2142 2029 2127 4280 2166 2046 2026 2765 2749 2745 3752\n",
      " 2217 2230 3046 3183 2070 2213 4208 2774 4133 4213 4170 2073 3561 2330\n",
      " 3977 2204 2086 2226 2075 2038 2069 2100 3133 3070 2777 2125 2766 2209\n",
      " 2160 2065 2150 2168 4171 2155 2517 2096 2750 2093 3204 4300 3844 4226\n",
      " 3192 2485 2097 4817 2516 3074 4508 4405 2452 2205 4132 4744 2158 3201\n",
      " 4178 2112 2033 4401 3186 4017 2315 2285 2219 4509 2759 2747 2227 2025\n",
      " 3191 3025 2263 2154 2119 3016 4113 2032 4352 3020 2116 3057 2099 3749\n",
      " 2148 3145 2021 2333 2783 2280 4120 3638 2074 2880 2430 4560 2088 2220\n",
      " 3031 2250 2261 3196 4680 3143 2063 3021 2138 4811 2085 3084 3170 2066\n",
      " 4078 2222 3152 2159 4655 4220 4012 2015 2776 3011 2761 2502 2110 2566\n",
      " 2506 2508 2036 2018 3666 4514 2525 4152 2200 3023 3500 2283 2102 2040\n",
      " 2304 2340 3580 3355 2287 2324 2323 2320 2346 2031 2064 2176 3195 2010\n",
      " 2768 2752 3802 3071 4735 3081 3205 2165 3125 4214 2030 2767 2798 2117\n",
      " 4551 3064 3810 4151 2830 3030 4812 2141 3029 2173 3199 4506 2035 3340\n",
      " 3182 2450 2216 3796 3197 2232 2365 4701 4210 2223 4122 2515 3437 3338\n",
      " 2203 3356 3223 3032 3105 3101 2763 2089 2126 2147 2251 3127 3087 3131\n",
      " 3134 2193 4055 2530 4217 4020 2179 3130 4570 3215 3165 3936 2265 3034\n",
      " 2062 2162 3033 2144 3805 2642 3228 3444 2076 4124 4305 2579 2835 3337\n",
      " 2536 2770 2646 4558 2211 2570 4552 3082 2360 4223 4370 3150 2549 3040\n",
      " 4209 4173 2068 3806 2259 2260 4074 4215 3008 2748 2567 3015 4221 3121\n",
      " 4870 2118 2050 2120 3812 3111 3012 2197 3162 2037 3141 3178 3564 3550\n",
      " 3775 3004 3185 2447 3910 3621 4702 2133 3075 3911 2487 4123 2151 3156\n",
      " 3126 2027 3124 2564 2049 3690 3282 2576 3108 4165 2218 2190 2337 2307\n",
      " 2121 2716 3168 3076 2478 2560 2087 4505 2630 2225 3013 3136 2111 2106\n",
      " 3930 2291 2305 2300 4179 2539 3207 4340 3137 3068 4580 2041 4504 2306\n",
      " 4075 3975 4114 4341 4022 4820 3028 4035 2326 3429 4218 2380 3171 2565\n",
      " 3850 3807 4800 2577 2199 2134 4053 2800 2048 2194 2557 2548 2262 2463\n",
      " 2481 2072 3155 3095 4207 4110 2017 2769 4562 2571 3480 3551 2753 3093\n",
      " 4615 3174 2192 2290 3073 4810 4121 2229 4118 2594 3750 4019 2540 2293\n",
      " 2143 3630 2164 4869 2137 2354 4814 2282 2292 2171 2077 4873 4006 2754\n",
      " 2152 2067 2122 3976 2000 3175 2156 2228 3187 2680 2527 2163 2336 4415\n",
      " 3139 3147 3623 4356 2034 2196 2177 2234 2537 4720 3765 2486 4511 2795\n",
      " 3188 3730 3060 4131 2518 3158 2477 2195 2575 3400 3037 4507 2113 2443\n",
      " 3177 2641 4212 3241 3428 4227 4034 2558 2460 3173 2289 4500 4825 4161\n",
      " 3757 2871 2146 4380 3024 3934 3109 2136 2484 3225 4068 2214 3809 2454\n",
      " 4556 4573 2131 3184 2619 3138 3441 2101 4510 2647 2731 3284 2573 2206\n",
      " 4815 2526 4502 2710 2090 3038 3142 3442 4064 2529 3039 2061 3644 2104\n",
      " 2044 3043 2873 2541 2321 2079 3072 2007 2620 2231 2580 2020 2852 3677\n",
      " 4818 4519 4806 4610 4512 4306 4304 4301 4205 4051 4130 4115 4164 4128\n",
      " 3940 3939 3840 3804 2582 3747 3620 3151 3380 3280 3224 3222 3226 3190\n",
      " 3169 3163 3161 3791 4119 3140 3818 3106 3099 3754 3756 3061 3048 3036\n",
      " 3107 3022 3049 2870 2762 2794 2773 2640 2439 2528 2440 2325 2161 2848\n",
      " 4878 2775 2224 3219 2441 4877 3264 2681 3018 2043 2107 4567 4011 2221\n",
      " 2028 3941 3146 3585 4105 2094 2284 3808 3149 3114 3352 3129 4154 2114\n",
      " 4721 2011 4157 4799 2095 3103 4224 4344 2009 3144 3181 2665 2474 3166\n",
      " 2820 4059 4160 3189 4030 2042 4032 4103 2868 2358 2449 2299 4014 3056\n",
      " 2281 4007 2318 3821 4109 4216 2470 2563 2264 2445 4060 3214 4077 2327\n",
      " 4104 3172 2505 2115 2469 2705 3088 3966 3912 2446 2810 4061 3083 3915\n",
      " 4153 2267 3458 4421 3505 3006 4037 3918 2335 3079 2400 3148 2092 2714\n",
      " 3555 2008 3631 4228 4101 2022 4568 3115 4343 3116 2208 4125 4070 3194\n",
      " 2533 2758 4159 4879 2500 2298 2178 3240 2671 4455 4650 3160 3250 3342\n",
      " 3523 2350 2785 3995 3351 3000 2462 3041 3260 2534 4565 3618 2780 2167\n",
      " 3279 4106 4700 2799 4564 4860 3922 2256 4031 2779 4660 4073 3067 2843\n",
      " 3027 3066 2572 2128 4054 4069 2343 3377 3065 2295 4270 2316 3179 3933\n",
      " 4883 2081 2471 3053 4285 2546 4275 3132 3042 3085 2071 2821 4390 3793\n",
      " 3128 2869 3616 4750 3059 3153 2130 3213 3862 3610 4102 2060 3786 2019\n",
      " 2191 2713 3094 3122 2850 4272 3051 3634 3803 4515 2700 3123 2294 3978\n",
      " 3305 2198 2778 4730 4155 4000 4225 3556 4575 4715 2429 4555 2132 2045\n",
      " 2024 4076 3321 3193 2390 2806 2257 4172 3078 3104 3860 2658 3052 4163\n",
      " 2590 2550 2877 4311 3089]\n",
      "\n",
      "state have 5 unique values: object\n",
      "state values: ['New South Wales' 'QLD' 'VIC' 'NSW' 'Victoria']\n",
      "\n",
      "country have 1 unique values: object\n",
      "country values: ['Australia']\n",
      "\n",
      "property_valuation have 12 unique values: int64\n",
      "property_valuation values: [10  9  4 12  8  6  7  3  5 11  1  2]\n",
      "\n"
     ]
    }
   ],
   "source": [
    "# Checking unique value of each columns\n",
    "for col in CustomerAddress.columns:\n",
    "    print(\"{} have {} unique values: {}\".format(col, CustomerAddress[col].nunique(), CustomerAddress[col].dtypes))\n",
    "    if CustomerAddress[col].dtypes == 'int64' or CustomerAddress[col].dtypes == 'object':\n",
    "        print(\"{} values: {}\".format(col,CustomerAddress[col].unique()))\n",
    "        print('')"
   ]
  },
  {
   "cell_type": "code",
   "execution_count": 119,
   "metadata": {},
   "outputs": [
    {
     "name": "stdout",
     "output_type": "stream",
     "text": [
      "['customer_id', 'postcode', 'property_valuation']\n",
      "Counts : 3\n"
     ]
    }
   ],
   "source": [
    "# numerical data\n",
    "nums_a = CustomerAddress.loc[:, (CustomerAddress.dtypes == 'int64')].columns.tolist()\n",
    "print(nums_a)\n",
    "print('Counts :', len(nums_a))"
   ]
  },
  {
   "cell_type": "code",
   "execution_count": 120,
   "metadata": {},
   "outputs": [
    {
     "name": "stdout",
     "output_type": "stream",
     "text": [
      "['customer_id', 'postcode', 'property_valuation']\n",
      "Counts : 3\n"
     ]
    }
   ],
   "source": [
    "# numerical data\n",
    "cats_a = CustomerAddress.loc[:, (CustomerAddress.dtypes == 'int64')].columns.tolist()\n",
    "print(cats_a)\n",
    "print('Counts :', len(cats_a))"
   ]
  },
  {
   "cell_type": "markdown",
   "metadata": {},
   "source": [
    "***Observation :***\n",
    "1. Number of records: 3999 & Number of columns: 6\n",
    "2. Column types: 3 numerical and 3 categorical\n",
    "3. Data consistency issue: Inconsistent values in the \"state\" column\n",
    "4. Data types appropriately assigned for each column\n",
    "5. Data requires treatment to resolve the inconsistency in the \"state\" column."
   ]
  },
  {
   "cell_type": "markdown",
   "metadata": {},
   "source": [
    "Checking Missing Values"
   ]
  },
  {
   "cell_type": "code",
   "execution_count": 121,
   "metadata": {},
   "outputs": [
    {
     "name": "stdout",
     "output_type": "stream",
     "text": [
      "Percentages missing value of dataset : 0.0 %\n"
     ]
    }
   ],
   "source": [
    "# percentages missing value of dataset\n",
    "nan_df = CustomerAddress[CustomerAddress.isna().any(axis=1)]\n",
    "nan_percent = round(len(nan_df)/len(CustomerAddress)*100, 2)\n",
    "print('Percentages missing value of dataset :', nan_percent, '%')"
   ]
  },
  {
   "cell_type": "markdown",
   "metadata": {},
   "source": [
    "***Observation : There is no missing values***"
   ]
  },
  {
   "cell_type": "markdown",
   "metadata": {},
   "source": [
    "***Checking Duplicate Records***"
   ]
  },
  {
   "cell_type": "code",
   "execution_count": 122,
   "metadata": {},
   "outputs": [
    {
     "data": {
      "text/plain": [
       "False"
      ]
     },
     "execution_count": 122,
     "metadata": {},
     "output_type": "execute_result"
    }
   ],
   "source": [
    "# checking duplicated data\n",
    "CustomerAddress.duplicated().any()"
   ]
  },
  {
   "cell_type": "markdown",
   "metadata": {},
   "source": [
    "***Observation : There is no duplicate data***"
   ]
  },
  {
   "cell_type": "code",
   "execution_count": 123,
   "metadata": {},
   "outputs": [
    {
     "data": {
      "text/html": [
       "<div>\n",
       "<style scoped>\n",
       "    .dataframe tbody tr th:only-of-type {\n",
       "        vertical-align: middle;\n",
       "    }\n",
       "\n",
       "    .dataframe tbody tr th {\n",
       "        vertical-align: top;\n",
       "    }\n",
       "\n",
       "    .dataframe thead th {\n",
       "        text-align: right;\n",
       "    }\n",
       "</style>\n",
       "<table border=\"1\" class=\"dataframe\">\n",
       "  <thead>\n",
       "    <tr style=\"text-align: right;\">\n",
       "      <th></th>\n",
       "      <th>count</th>\n",
       "      <th>mean</th>\n",
       "      <th>std</th>\n",
       "      <th>min</th>\n",
       "      <th>25%</th>\n",
       "      <th>50%</th>\n",
       "      <th>75%</th>\n",
       "      <th>max</th>\n",
       "    </tr>\n",
       "  </thead>\n",
       "  <tbody>\n",
       "    <tr>\n",
       "      <th>customer_id</th>\n",
       "      <td>3999.0</td>\n",
       "      <td>2003.987997</td>\n",
       "      <td>1154.576912</td>\n",
       "      <td>1.0</td>\n",
       "      <td>1004.5</td>\n",
       "      <td>2004.0</td>\n",
       "      <td>3003.5</td>\n",
       "      <td>4003.0</td>\n",
       "    </tr>\n",
       "    <tr>\n",
       "      <th>postcode</th>\n",
       "      <td>3999.0</td>\n",
       "      <td>2985.755939</td>\n",
       "      <td>844.878364</td>\n",
       "      <td>2000.0</td>\n",
       "      <td>2200.0</td>\n",
       "      <td>2768.0</td>\n",
       "      <td>3750.0</td>\n",
       "      <td>4883.0</td>\n",
       "    </tr>\n",
       "    <tr>\n",
       "      <th>property_valuation</th>\n",
       "      <td>3999.0</td>\n",
       "      <td>7.514379</td>\n",
       "      <td>2.824663</td>\n",
       "      <td>1.0</td>\n",
       "      <td>6.0</td>\n",
       "      <td>8.0</td>\n",
       "      <td>10.0</td>\n",
       "      <td>12.0</td>\n",
       "    </tr>\n",
       "  </tbody>\n",
       "</table>\n",
       "</div>"
      ],
      "text/plain": [
       "                     count         mean          std     min     25%     50%  \\\n",
       "customer_id         3999.0  2003.987997  1154.576912     1.0  1004.5  2004.0   \n",
       "postcode            3999.0  2985.755939   844.878364  2000.0  2200.0  2768.0   \n",
       "property_valuation  3999.0     7.514379     2.824663     1.0     6.0     8.0   \n",
       "\n",
       "                       75%     max  \n",
       "customer_id         3003.5  4003.0  \n",
       "postcode            3750.0  4883.0  \n",
       "property_valuation    10.0    12.0  "
      ]
     },
     "execution_count": 123,
     "metadata": {},
     "output_type": "execute_result"
    }
   ],
   "source": [
    "# numerical\n",
    "CustomerAddress[nums_a].describe().T"
   ]
  },
  {
   "cell_type": "code",
   "execution_count": 124,
   "metadata": {},
   "outputs": [
    {
     "data": {
      "text/html": [
       "<div>\n",
       "<style scoped>\n",
       "    .dataframe tbody tr th:only-of-type {\n",
       "        vertical-align: middle;\n",
       "    }\n",
       "\n",
       "    .dataframe tbody tr th {\n",
       "        vertical-align: top;\n",
       "    }\n",
       "\n",
       "    .dataframe thead th {\n",
       "        text-align: right;\n",
       "    }\n",
       "</style>\n",
       "<table border=\"1\" class=\"dataframe\">\n",
       "  <thead>\n",
       "    <tr style=\"text-align: right;\">\n",
       "      <th></th>\n",
       "      <th>count</th>\n",
       "      <th>mean</th>\n",
       "      <th>std</th>\n",
       "      <th>min</th>\n",
       "      <th>25%</th>\n",
       "      <th>50%</th>\n",
       "      <th>75%</th>\n",
       "      <th>max</th>\n",
       "    </tr>\n",
       "  </thead>\n",
       "  <tbody>\n",
       "    <tr>\n",
       "      <th>customer_id</th>\n",
       "      <td>3999.0</td>\n",
       "      <td>2003.987997</td>\n",
       "      <td>1154.576912</td>\n",
       "      <td>1.0</td>\n",
       "      <td>1004.5</td>\n",
       "      <td>2004.0</td>\n",
       "      <td>3003.5</td>\n",
       "      <td>4003.0</td>\n",
       "    </tr>\n",
       "    <tr>\n",
       "      <th>postcode</th>\n",
       "      <td>3999.0</td>\n",
       "      <td>2985.755939</td>\n",
       "      <td>844.878364</td>\n",
       "      <td>2000.0</td>\n",
       "      <td>2200.0</td>\n",
       "      <td>2768.0</td>\n",
       "      <td>3750.0</td>\n",
       "      <td>4883.0</td>\n",
       "    </tr>\n",
       "    <tr>\n",
       "      <th>property_valuation</th>\n",
       "      <td>3999.0</td>\n",
       "      <td>7.514379</td>\n",
       "      <td>2.824663</td>\n",
       "      <td>1.0</td>\n",
       "      <td>6.0</td>\n",
       "      <td>8.0</td>\n",
       "      <td>10.0</td>\n",
       "      <td>12.0</td>\n",
       "    </tr>\n",
       "  </tbody>\n",
       "</table>\n",
       "</div>"
      ],
      "text/plain": [
       "                     count         mean          std     min     25%     50%  \\\n",
       "customer_id         3999.0  2003.987997  1154.576912     1.0  1004.5  2004.0   \n",
       "postcode            3999.0  2985.755939   844.878364  2000.0  2200.0  2768.0   \n",
       "property_valuation  3999.0     7.514379     2.824663     1.0     6.0     8.0   \n",
       "\n",
       "                       75%     max  \n",
       "customer_id         3003.5  4003.0  \n",
       "postcode            3750.0  4883.0  \n",
       "property_valuation    10.0    12.0  "
      ]
     },
     "execution_count": 124,
     "metadata": {},
     "output_type": "execute_result"
    }
   ],
   "source": [
    "# numerical\n",
    "CustomerAddress[cats_a].describe().T"
   ]
  },
  {
   "cell_type": "code",
   "execution_count": 130,
   "metadata": {},
   "outputs": [
    {
     "data": {
      "image/png": "[encoded data removed]",
      "text/plain": [
       "<Figure size 576x216 with 3 Axes>"
      ]
     },
     "metadata": {
      "needs_background": "light"
     },
     "output_type": "display_data"
    }
   ],
   "source": [
    "# distribution numerical data\n",
    "plt.figure(figsize=(8, 3))\n",
    "for i in range(0, len(nums_a)):\n",
    "    plt.subplot(1, len(nums_a), i+1)\n",
    "    sns.distplot(CustomerAddress[nums_a[i]], color='blue')\n",
    "    plt.tight_layout()"
   ]
  },
  {
   "cell_type": "code",
   "execution_count": 131,
   "metadata": {},
   "outputs": [
    {
     "data": {
      "image/png": "[encoded data removed]",
      "text/plain": [
       "<Figure size 432x216 with 3 Axes>"
      ]
     },
     "metadata": {
      "needs_background": "light"
     },
     "output_type": "display_data"
    }
   ],
   "source": [
    "# distribution numerical data and check outlier\n",
    "plt.figure(figsize=(6, 3))\n",
    "for i in range(0, len(nums_a)):\n",
    "    plt.subplot(1, len(nums_a), i+1)\n",
    "    sns.boxplot(y=CustomerAddress[nums_a[i]], color='yellowgreen', orient='v')\n",
    "    plt.tight_layout()"
   ]
  },
  {
   "cell_type": "code",
   "execution_count": 132,
   "metadata": {},
   "outputs": [
    {
     "data": {
      "image/png": "[encoded data removed]",
      "text/plain": [
       "<Figure size 576x576 with 3 Axes>"
      ]
     },
     "metadata": {
      "needs_background": "light"
     },
     "output_type": "display_data"
    }
   ],
   "source": [
    "plt.figure(figsize=(8, 8))\n",
    "for i in range(0, len(cats_a)):\n",
    "    plt.subplot(3, 1, i+1)\n",
    "    sns.countplot(x=CustomerAddress[cats_a[i]], color='blue', orient='v')\n",
    "    plt.tight_layout()"
   ]
  },
  {
   "cell_type": "code",
   "execution_count": 133,
   "metadata": {},
   "outputs": [
    {
     "data": {
      "text/plain": [
       "NSW                2054\n",
       "VIC                 939\n",
       "QLD                 838\n",
       "New South Wales      86\n",
       "Victoria             82\n",
       "Name: state, dtype: int64"
      ]
     },
     "execution_count": 133,
     "metadata": {},
     "output_type": "execute_result"
    }
   ],
   "source": [
    "\n",
    "CustomerAddress['state'].value_counts()"
   ]
  },
  {
   "cell_type": "code",
   "execution_count": 136,
   "metadata": {},
   "outputs": [],
   "source": [
    "# replace values\n",
    "CustomerAddress['state'].replace(['NSW', 'VIC','QLD'], ['New South Wales', 'Victoria','Queensland'], inplace=True)"
   ]
  },
  {
   "cell_type": "code",
   "execution_count": 137,
   "metadata": {},
   "outputs": [
    {
     "data": {
      "text/plain": [
       "New South Wales    2140\n",
       "Victoria           1021\n",
       "Queensland          838\n",
       "Name: state, dtype: int64"
      ]
     },
     "execution_count": 137,
     "metadata": {},
     "output_type": "execute_result"
    }
   ],
   "source": [
    "\n",
    "CustomerAddress['state'].value_counts()"
   ]
  },
  {
   "cell_type": "code",
   "execution_count": 139,
   "metadata": {},
   "outputs": [],
   "source": [
    "CustomerAddress.to_csv('cusadr_CLEAN.csv', index=False)"
   ]
  },
  {
   "cell_type": "code",
   "execution_count": null,
   "metadata": {},
   "outputs": [],
   "source": []
  }
 ],
 "metadata": {
  "kernelspec": {
   "display_name": "Python 3",
   "language": "python",
   "name": "python3"
  },
  "language_info": {
   "codemirror_mode": {
    "name": "ipython",
    "version": 3
   },
   "file_extension": ".py",
   "mimetype": "text/x-python",
   "name": "python",
   "nbconvert_exporter": "python",
   "pygments_lexer": "ipython3",
   "version": "3.8.3"
  }
 },
 "nbformat": 4,
 "nbformat_minor": 4
}
